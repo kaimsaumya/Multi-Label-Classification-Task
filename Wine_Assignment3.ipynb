{
 "cells": [
  {
   "cell_type": "markdown",
   "id": "minus-skirt",
   "metadata": {},
   "source": [
    "PROBLEM STATEMENT: Using Wine dataset \"https://archive.ics.uci.edu/ml/datasets/wine\" from UCI repository, the aim is to predict the class categories of the thirteen chemical constituents of wine determined by the three cultivators of Italy.\n",
    "\n",
    "STUDENT NO: N10628584\n",
    "NAME: SAUMYA KAIM"
   ]
  },
  {
   "cell_type": "code",
   "execution_count": 1,
   "id": "crude-mortality",
   "metadata": {},
   "outputs": [],
   "source": [
    "#Initialising libraries for further use\n",
    "\n",
    "import pandas as pd\n",
    "import numpy as np\n",
    "import statsmodels.api as sm\n",
    "import matplotlib.pyplot as plt\n",
    "from sklearn.metrics import mean_squared_error\n",
    "import statsmodels.api\n",
    "import statsmodels.formula.api as sm \n",
    "import scipy.stats as stats\n",
    "import seaborn as sns\n",
    "from sklearn.metrics import mean_squared_error\n",
    "from sklearn import decomposition\n",
    "from sklearn import discriminant_analysis\n",
    "from sklearn import datasets\n",
    "from sklearn.model_selection import train_test_split\n",
    "from sklearn.metrics import plot_confusion_matrix, confusion_matrix, accuracy_score, classification_report\n",
    "from sklearn.ensemble import GradientBoostingClassifier\n",
    "from sklearn.svm import SVC, NuSVC\n",
    "from sklearn.multiclass import OneVsRestClassifier, OneVsOneClassifier"
   ]
  },
  {
   "cell_type": "code",
   "execution_count": 2,
   "id": "hispanic-regular",
   "metadata": {},
   "outputs": [],
   "source": [
    "pd.set_option('display.max_columns', 200)\n",
    "pd.set_option('display.max_rows', 200)"
   ]
  },
  {
   "cell_type": "markdown",
   "id": "funky-cocktail",
   "metadata": {},
   "source": [
    "These chemical constituents are continous values. "
   ]
  },
  {
   "cell_type": "code",
   "execution_count": 3,
   "id": "lonely-receipt",
   "metadata": {
    "scrolled": true
   },
   "outputs": [
    {
     "name": "stdout",
     "output_type": "stream",
     "text": [
      "     0      1     2     3     4    5     6     7     8     9          10  \\\n",
      "0     1  14.23  1.71  2.43  15.6  127  2.80  3.06  0.28  2.29   5.640000   \n",
      "1     1  13.20  1.78  2.14  11.2  100  2.65  2.76  0.26  1.28   4.380000   \n",
      "2     1  13.16  2.36  2.67  18.6  101  2.80  3.24  0.30  2.81   5.680000   \n",
      "3     1  14.37  1.95  2.50  16.8  113  3.85  3.49  0.24  2.18   7.800000   \n",
      "4     1  13.24  2.59  2.87  21.0  118  2.80  2.69  0.39  1.82   4.320000   \n",
      "5     1  14.20  1.76  2.45  15.2  112  3.27  3.39  0.34  1.97   6.750000   \n",
      "6     1  14.39  1.87  2.45  14.6   96  2.50  2.52  0.30  1.98   5.250000   \n",
      "7     1  14.06  2.15  2.61  17.6  121  2.60  2.51  0.31  1.25   5.050000   \n",
      "8     1  14.83  1.64  2.17  14.0   97  2.80  2.98  0.29  1.98   5.200000   \n",
      "9     1  13.86  1.35  2.27  16.0   98  2.98  3.15  0.22  1.85   7.220000   \n",
      "10    1  14.10  2.16  2.30  18.0  105  2.95  3.32  0.22  2.38   5.750000   \n",
      "11    1  14.12  1.48  2.32  16.8   95  2.20  2.43  0.26  1.57   5.000000   \n",
      "12    1  13.75  1.73  2.41  16.0   89  2.60  2.76  0.29  1.81   5.600000   \n",
      "13    1  14.75  1.73  2.39  11.4   91  3.10  3.69  0.43  2.81   5.400000   \n",
      "14    1  14.38  1.87  2.38  12.0  102  3.30  3.64  0.29  2.96   7.500000   \n",
      "15    1  13.63  1.81  2.70  17.2  112  2.85  2.91  0.30  1.46   7.300000   \n",
      "16    1  14.30  1.92  2.72  20.0  120  2.80  3.14  0.33  1.97   6.200000   \n",
      "17    1  13.83  1.57  2.62  20.0  115  2.95  3.40  0.40  1.72   6.600000   \n",
      "18    1  14.19  1.59  2.48  16.5  108  3.30  3.93  0.32  1.86   8.700000   \n",
      "19    1  13.64  3.10  2.56  15.2  116  2.70  3.03  0.17  1.66   5.100000   \n",
      "20    1  14.06  1.63  2.28  16.0  126  3.00  3.17  0.24  2.10   5.650000   \n",
      "21    1  12.93  3.80  2.65  18.6  102  2.41  2.41  0.25  1.98   4.500000   \n",
      "22    1  13.71  1.86  2.36  16.6  101  2.61  2.88  0.27  1.69   3.800000   \n",
      "23    1  12.85  1.60  2.52  17.8   95  2.48  2.37  0.26  1.46   3.930000   \n",
      "24    1  13.50  1.81  2.61  20.0   96  2.53  2.61  0.28  1.66   3.520000   \n",
      "25    1  13.05  2.05  3.22  25.0  124  2.63  2.68  0.47  1.92   3.580000   \n",
      "26    1  13.39  1.77  2.62  16.1   93  2.85  2.94  0.34  1.45   4.800000   \n",
      "27    1  13.30  1.72  2.14  17.0   94  2.40  2.19  0.27  1.35   3.950000   \n",
      "28    1  13.87  1.90  2.80  19.4  107  2.95  2.97  0.37  1.76   4.500000   \n",
      "29    1  14.02  1.68  2.21  16.0   96  2.65  2.33  0.26  1.98   4.700000   \n",
      "30    1  13.73  1.50  2.70  22.5  101  3.00  3.25  0.29  2.38   5.700000   \n",
      "31    1  13.58  1.66  2.36  19.1  106  2.86  3.19  0.22  1.95   6.900000   \n",
      "32    1  13.68  1.83  2.36  17.2  104  2.42  2.69  0.42  1.97   3.840000   \n",
      "33    1  13.76  1.53  2.70  19.5  132  2.95  2.74  0.50  1.35   5.400000   \n",
      "34    1  13.51  1.80  2.65  19.0  110  2.35  2.53  0.29  1.54   4.200000   \n",
      "35    1  13.48  1.81  2.41  20.5  100  2.70  2.98  0.26  1.86   5.100000   \n",
      "36    1  13.28  1.64  2.84  15.5  110  2.60  2.68  0.34  1.36   4.600000   \n",
      "37    1  13.05  1.65  2.55  18.0   98  2.45  2.43  0.29  1.44   4.250000   \n",
      "38    1  13.07  1.50  2.10  15.5   98  2.40  2.64  0.28  1.37   3.700000   \n",
      "39    1  14.22  3.99  2.51  13.2  128  3.00  3.04  0.20  2.08   5.100000   \n",
      "40    1  13.56  1.71  2.31  16.2  117  3.15  3.29  0.34  2.34   6.130000   \n",
      "41    1  13.41  3.84  2.12  18.8   90  2.45  2.68  0.27  1.48   4.280000   \n",
      "42    1  13.88  1.89  2.59  15.0  101  3.25  3.56  0.17  1.70   5.430000   \n",
      "43    1  13.24  3.98  2.29  17.5  103  2.64  2.63  0.32  1.66   4.360000   \n",
      "44    1  13.05  1.77  2.10  17.0  107  3.00  3.00  0.28  2.03   5.040000   \n",
      "45    1  14.21  4.04  2.44  18.9  111  2.85  2.65  0.30  1.25   5.240000   \n",
      "46    1  14.38  3.59  2.28  16.0  102  3.25  3.17  0.27  2.19   4.900000   \n",
      "47    1  13.90  1.68  2.12  16.0  101  3.10  3.39  0.21  2.14   6.100000   \n",
      "48    1  14.10  2.02  2.40  18.8  103  2.75  2.92  0.32  2.38   6.200000   \n",
      "49    1  13.94  1.73  2.27  17.4  108  2.88  3.54  0.32  2.08   8.900000   \n",
      "50    1  13.05  1.73  2.04  12.4   92  2.72  3.27  0.17  2.91   7.200000   \n",
      "51    1  13.83  1.65  2.60  17.2   94  2.45  2.99  0.22  2.29   5.600000   \n",
      "52    1  13.82  1.75  2.42  14.0  111  3.88  3.74  0.32  1.87   7.050000   \n",
      "53    1  13.77  1.90  2.68  17.1  115  3.00  2.79  0.39  1.68   6.300000   \n",
      "54    1  13.74  1.67  2.25  16.4  118  2.60  2.90  0.21  1.62   5.850000   \n",
      "55    1  13.56  1.73  2.46  20.5  116  2.96  2.78  0.20  2.45   6.250000   \n",
      "56    1  14.22  1.70  2.30  16.3  118  3.20  3.00  0.26  2.03   6.380000   \n",
      "57    1  13.29  1.97  2.68  16.8  102  3.00  3.23  0.31  1.66   6.000000   \n",
      "58    1  13.72  1.43  2.50  16.7  108  3.40  3.67  0.19  2.04   6.800000   \n",
      "59    2  12.37  0.94  1.36  10.6   88  1.98  0.57  0.28  0.42   1.950000   \n",
      "60    2  12.33  1.10  2.28  16.0  101  2.05  1.09  0.63  0.41   3.270000   \n",
      "61    2  12.64  1.36  2.02  16.8  100  2.02  1.41  0.53  0.62   5.750000   \n",
      "62    2  13.67  1.25  1.92  18.0   94  2.10  1.79  0.32  0.73   3.800000   \n",
      "63    2  12.37  1.13  2.16  19.0   87  3.50  3.10  0.19  1.87   4.450000   \n",
      "64    2  12.17  1.45  2.53  19.0  104  1.89  1.75  0.45  1.03   2.950000   \n",
      "65    2  12.37  1.21  2.56  18.1   98  2.42  2.65  0.37  2.08   4.600000   \n",
      "66    2  13.11  1.01  1.70  15.0   78  2.98  3.18  0.26  2.28   5.300000   \n",
      "67    2  12.37  1.17  1.92  19.6   78  2.11  2.00  0.27  1.04   4.680000   \n",
      "68    2  13.34  0.94  2.36  17.0  110  2.53  1.30  0.55  0.42   3.170000   \n",
      "69    2  12.21  1.19  1.75  16.8  151  1.85  1.28  0.14  2.50   2.850000   \n",
      "70    2  12.29  1.61  2.21  20.4  103  1.10  1.02  0.37  1.46   3.050000   \n",
      "71    2  13.86  1.51  2.67  25.0   86  2.95  2.86  0.21  1.87   3.380000   \n",
      "72    2  13.49  1.66  2.24  24.0   87  1.88  1.84  0.27  1.03   3.740000   \n",
      "73    2  12.99  1.67  2.60  30.0  139  3.30  2.89  0.21  1.96   3.350000   \n",
      "74    2  11.96  1.09  2.30  21.0  101  3.38  2.14  0.13  1.65   3.210000   \n",
      "75    2  11.66  1.88  1.92  16.0   97  1.61  1.57  0.34  1.15   3.800000   \n",
      "76    2  13.03  0.90  1.71  16.0   86  1.95  2.03  0.24  1.46   4.600000   \n",
      "77    2  11.84  2.89  2.23  18.0  112  1.72  1.32  0.43  0.95   2.650000   \n",
      "78    2  12.33  0.99  1.95  14.8  136  1.90  1.85  0.35  2.76   3.400000   \n",
      "79    2  12.70  3.87  2.40  23.0  101  2.83  2.55  0.43  1.95   2.570000   \n",
      "80    2  12.00  0.92  2.00  19.0   86  2.42  2.26  0.30  1.43   2.500000   \n",
      "81    2  12.72  1.81  2.20  18.8   86  2.20  2.53  0.26  1.77   3.900000   \n",
      "82    2  12.08  1.13  2.51  24.0   78  2.00  1.58  0.40  1.40   2.200000   \n",
      "83    2  13.05  3.86  2.32  22.5   85  1.65  1.59  0.61  1.62   4.800000   \n",
      "84    2  11.84  0.89  2.58  18.0   94  2.20  2.21  0.22  2.35   3.050000   \n",
      "85    2  12.67  0.98  2.24  18.0   99  2.20  1.94  0.30  1.46   2.620000   \n",
      "86    2  12.16  1.61  2.31  22.8   90  1.78  1.69  0.43  1.56   2.450000   \n",
      "87    2  11.65  1.67  2.62  26.0   88  1.92  1.61  0.40  1.34   2.600000   \n",
      "88    2  11.64  2.06  2.46  21.6   84  1.95  1.69  0.48  1.35   2.800000   \n",
      "89    2  12.08  1.33  2.30  23.6   70  2.20  1.59  0.42  1.38   1.740000   \n",
      "90    2  12.08  1.83  2.32  18.5   81  1.60  1.50  0.52  1.64   2.400000   \n",
      "91    2  12.00  1.51  2.42  22.0   86  1.45  1.25  0.50  1.63   3.600000   \n",
      "92    2  12.69  1.53  2.26  20.7   80  1.38  1.46  0.58  1.62   3.050000   \n",
      "93    2  12.29  2.83  2.22  18.0   88  2.45  2.25  0.25  1.99   2.150000   \n",
      "94    2  11.62  1.99  2.28  18.0   98  3.02  2.26  0.17  1.35   3.250000   \n",
      "95    2  12.47  1.52  2.20  19.0  162  2.50  2.27  0.32  3.28   2.600000   \n",
      "96    2  11.81  2.12  2.74  21.5  134  1.60  0.99  0.14  1.56   2.500000   \n",
      "97    2  12.29  1.41  1.98  16.0   85  2.55  2.50  0.29  1.77   2.900000   \n",
      "98    2  12.37  1.07  2.10  18.5   88  3.52  3.75  0.24  1.95   4.500000   \n",
      "99    2  12.29  3.17  2.21  18.0   88  2.85  2.99  0.45  2.81   2.300000   \n",
      "100   2  12.08  2.08  1.70  17.5   97  2.23  2.17  0.26  1.40   3.300000   \n",
      "101   2  12.60  1.34  1.90  18.5   88  1.45  1.36  0.29  1.35   2.450000   \n",
      "102   2  12.34  2.45  2.46  21.0   98  2.56  2.11  0.34  1.31   2.800000   \n",
      "103   2  11.82  1.72  1.88  19.5   86  2.50  1.64  0.37  1.42   2.060000   \n",
      "104   2  12.51  1.73  1.98  20.5   85  2.20  1.92  0.32  1.48   2.940000   \n",
      "105   2  12.42  2.55  2.27  22.0   90  1.68  1.84  0.66  1.42   2.700000   \n",
      "106   2  12.25  1.73  2.12  19.0   80  1.65  2.03  0.37  1.63   3.400000   \n",
      "107   2  12.72  1.75  2.28  22.5   84  1.38  1.76  0.48  1.63   3.300000   \n",
      "108   2  12.22  1.29  1.94  19.0   92  2.36  2.04  0.39  2.08   2.700000   \n",
      "109   2  11.61  1.35  2.70  20.0   94  2.74  2.92  0.29  2.49   2.650000   \n",
      "110   2  11.46  3.74  1.82  19.5  107  3.18  2.58  0.24  3.58   2.900000   \n",
      "111   2  12.52  2.43  2.17  21.0   88  2.55  2.27  0.26  1.22   2.000000   \n",
      "112   2  11.76  2.68  2.92  20.0  103  1.75  2.03  0.60  1.05   3.800000   \n",
      "113   2  11.41  0.74  2.50  21.0   88  2.48  2.01  0.42  1.44   3.080000   \n",
      "114   2  12.08  1.39  2.50  22.5   84  2.56  2.29  0.43  1.04   2.900000   \n",
      "115   2  11.03  1.51  2.20  21.5   85  2.46  2.17  0.52  2.01   1.900000   \n",
      "116   2  11.82  1.47  1.99  20.8   86  1.98  1.60  0.30  1.53   1.950000   \n",
      "117   2  12.42  1.61  2.19  22.5  108  2.00  2.09  0.34  1.61   2.060000   \n",
      "118   2  12.77  3.43  1.98  16.0   80  1.63  1.25  0.43  0.83   3.400000   \n",
      "119   2  12.00  3.43  2.00  19.0   87  2.00  1.64  0.37  1.87   1.280000   \n",
      "120   2  11.45  2.40  2.42  20.0   96  2.90  2.79  0.32  1.83   3.250000   \n",
      "121   2  11.56  2.05  3.23  28.5  119  3.18  5.08  0.47  1.87   6.000000   \n",
      "122   2  12.42  4.43  2.73  26.5  102  2.20  2.13  0.43  1.71   2.080000   \n",
      "123   2  13.05  5.80  2.13  21.5   86  2.62  2.65  0.30  2.01   2.600000   \n",
      "124   2  11.87  4.31  2.39  21.0   82  2.86  3.03  0.21  2.91   2.800000   \n",
      "125   2  12.07  2.16  2.17  21.0   85  2.60  2.65  0.37  1.35   2.760000   \n",
      "126   2  12.43  1.53  2.29  21.5   86  2.74  3.15  0.39  1.77   3.940000   \n",
      "127   2  11.79  2.13  2.78  28.5   92  2.13  2.24  0.58  1.76   3.000000   \n",
      "128   2  12.37  1.63  2.30  24.5   88  2.22  2.45  0.40  1.90   2.120000   \n",
      "129   2  12.04  4.30  2.38  22.0   80  2.10  1.75  0.42  1.35   2.600000   \n",
      "130   3  12.86  1.35  2.32  18.0  122  1.51  1.25  0.21  0.94   4.100000   \n",
      "131   3  12.88  2.99  2.40  20.0  104  1.30  1.22  0.24  0.83   5.400000   \n",
      "132   3  12.81  2.31  2.40  24.0   98  1.15  1.09  0.27  0.83   5.700000   \n",
      "133   3  12.70  3.55  2.36  21.5  106  1.70  1.20  0.17  0.84   5.000000   \n",
      "134   3  12.51  1.24  2.25  17.5   85  2.00  0.58  0.60  1.25   5.450000   \n",
      "135   3  12.60  2.46  2.20  18.5   94  1.62  0.66  0.63  0.94   7.100000   \n",
      "136   3  12.25  4.72  2.54  21.0   89  1.38  0.47  0.53  0.80   3.850000   \n",
      "137   3  12.53  5.51  2.64  25.0   96  1.79  0.60  0.63  1.10   5.000000   \n",
      "138   3  13.49  3.59  2.19  19.5   88  1.62  0.48  0.58  0.88   5.700000   \n",
      "139   3  12.84  2.96  2.61  24.0  101  2.32  0.60  0.53  0.81   4.920000   \n",
      "140   3  12.93  2.81  2.70  21.0   96  1.54  0.50  0.53  0.75   4.600000   \n",
      "141   3  13.36  2.56  2.35  20.0   89  1.40  0.50  0.37  0.64   5.600000   \n",
      "142   3  13.52  3.17  2.72  23.5   97  1.55  0.52  0.50  0.55   4.350000   \n",
      "143   3  13.62  4.95  2.35  20.0   92  2.00  0.80  0.47  1.02   4.400000   \n",
      "144   3  12.25  3.88  2.20  18.5  112  1.38  0.78  0.29  1.14   8.210000   \n",
      "145   3  13.16  3.57  2.15  21.0  102  1.50  0.55  0.43  1.30   4.000000   \n",
      "146   3  13.88  5.04  2.23  20.0   80  0.98  0.34  0.40  0.68   4.900000   \n",
      "147   3  12.87  4.61  2.48  21.5   86  1.70  0.65  0.47  0.86   7.650000   \n",
      "148   3  13.32  3.24  2.38  21.5   92  1.93  0.76  0.45  1.25   8.420000   \n",
      "149   3  13.08  3.90  2.36  21.5  113  1.41  1.39  0.34  1.14   9.400000   \n",
      "150   3  13.50  3.12  2.62  24.0  123  1.40  1.57  0.22  1.25   8.600000   \n",
      "151   3  12.79  2.67  2.48  22.0  112  1.48  1.36  0.24  1.26  10.800000   \n",
      "152   3  13.11  1.90  2.75  25.5  116  2.20  1.28  0.26  1.56   7.100000   \n",
      "153   3  13.23  3.30  2.28  18.5   98  1.80  0.83  0.61  1.87  10.520000   \n",
      "154   3  12.58  1.29  2.10  20.0  103  1.48  0.58  0.53  1.40   7.600000   \n",
      "155   3  13.17  5.19  2.32  22.0   93  1.74  0.63  0.61  1.55   7.900000   \n",
      "156   3  13.84  4.12  2.38  19.5   89  1.80  0.83  0.48  1.56   9.010000   \n",
      "157   3  12.45  3.03  2.64  27.0   97  1.90  0.58  0.63  1.14   7.500000   \n",
      "158   3  14.34  1.68  2.70  25.0   98  2.80  1.31  0.53  2.70  13.000000   \n",
      "159   3  13.48  1.67  2.64  22.5   89  2.60  1.10  0.52  2.29  11.750000   \n",
      "160   3  12.36  3.83  2.38  21.0   88  2.30  0.92  0.50  1.04   7.650000   \n",
      "161   3  13.69  3.26  2.54  20.0  107  1.83  0.56  0.50  0.80   5.880000   \n",
      "162   3  12.85  3.27  2.58  22.0  106  1.65  0.60  0.60  0.96   5.580000   \n",
      "163   3  12.96  3.45  2.35  18.5  106  1.39  0.70  0.40  0.94   5.280000   \n",
      "164   3  13.78  2.76  2.30  22.0   90  1.35  0.68  0.41  1.03   9.580000   \n",
      "165   3  13.73  4.36  2.26  22.5   88  1.28  0.47  0.52  1.15   6.620000   \n",
      "166   3  13.45  3.70  2.60  23.0  111  1.70  0.92  0.43  1.46  10.680000   \n",
      "167   3  12.82  3.37  2.30  19.5   88  1.48  0.66  0.40  0.97  10.260000   \n",
      "168   3  13.58  2.58  2.69  24.5  105  1.55  0.84  0.39  1.54   8.660000   \n",
      "169   3  13.40  4.60  2.86  25.0  112  1.98  0.96  0.27  1.11   8.500000   \n",
      "170   3  12.20  3.03  2.32  19.0   96  1.25  0.49  0.40  0.73   5.500000   \n",
      "171   3  12.77  2.39  2.28  19.5   86  1.39  0.51  0.48  0.64   9.899999   \n",
      "172   3  14.16  2.51  2.48  20.0   91  1.68  0.70  0.44  1.24   9.700000   \n",
      "173   3  13.71  5.65  2.45  20.5   95  1.68  0.61  0.52  1.06   7.700000   \n",
      "174   3  13.40  3.91  2.48  23.0  102  1.80  0.75  0.43  1.41   7.300000   \n",
      "175   3  13.27  4.28  2.26  20.0  120  1.59  0.69  0.43  1.35  10.200000   \n",
      "176   3  13.17  2.59  2.37  20.0  120  1.65  0.68  0.53  1.46   9.300000   \n",
      "177   3  14.13  4.10  2.74  24.5   96  2.05  0.76  0.56  1.35   9.200000   \n",
      "\n",
      "        11    12    13  \n",
      "0    1.040  3.92  1065  \n",
      "1    1.050  3.40  1050  \n",
      "2    1.030  3.17  1185  \n",
      "3    0.860  3.45  1480  \n",
      "4    1.040  2.93   735  \n",
      "5    1.050  2.85  1450  \n",
      "6    1.020  3.58  1290  \n",
      "7    1.060  3.58  1295  \n",
      "8    1.080  2.85  1045  \n",
      "9    1.010  3.55  1045  \n",
      "10   1.250  3.17  1510  \n",
      "11   1.170  2.82  1280  \n",
      "12   1.150  2.90  1320  \n",
      "13   1.250  2.73  1150  \n",
      "14   1.200  3.00  1547  \n",
      "15   1.280  2.88  1310  \n",
      "16   1.070  2.65  1280  \n",
      "17   1.130  2.57  1130  \n",
      "18   1.230  2.82  1680  \n",
      "19   0.960  3.36   845  \n",
      "20   1.090  3.71   780  \n",
      "21   1.030  3.52   770  \n",
      "22   1.110  4.00  1035  \n",
      "23   1.090  3.63  1015  \n",
      "24   1.120  3.82   845  \n",
      "25   1.130  3.20   830  \n",
      "26   0.920  3.22  1195  \n",
      "27   1.020  2.77  1285  \n",
      "28   1.250  3.40   915  \n",
      "29   1.040  3.59  1035  \n",
      "30   1.190  2.71  1285  \n",
      "31   1.090  2.88  1515  \n",
      "32   1.230  2.87   990  \n",
      "33   1.250  3.00  1235  \n",
      "34   1.100  2.87  1095  \n",
      "35   1.040  3.47   920  \n",
      "36   1.090  2.78   880  \n",
      "37   1.120  2.51  1105  \n",
      "38   1.180  2.69  1020  \n",
      "39   0.890  3.53   760  \n",
      "40   0.950  3.38   795  \n",
      "41   0.910  3.00  1035  \n",
      "42   0.880  3.56  1095  \n",
      "43   0.820  3.00   680  \n",
      "44   0.880  3.35   885  \n",
      "45   0.870  3.33  1080  \n",
      "46   1.040  3.44  1065  \n",
      "47   0.910  3.33   985  \n",
      "48   1.070  2.75  1060  \n",
      "49   1.120  3.10  1260  \n",
      "50   1.120  2.91  1150  \n",
      "51   1.240  3.37  1265  \n",
      "52   1.010  3.26  1190  \n",
      "53   1.130  2.93  1375  \n",
      "54   0.920  3.20  1060  \n",
      "55   0.980  3.03  1120  \n",
      "56   0.940  3.31   970  \n",
      "57   1.070  2.84  1270  \n",
      "58   0.890  2.87  1285  \n",
      "59   1.050  1.82   520  \n",
      "60   1.250  1.67   680  \n",
      "61   0.980  1.59   450  \n",
      "62   1.230  2.46   630  \n",
      "63   1.220  2.87   420  \n",
      "64   1.450  2.23   355  \n",
      "65   1.190  2.30   678  \n",
      "66   1.120  3.18   502  \n",
      "67   1.120  3.48   510  \n",
      "68   1.020  1.93   750  \n",
      "69   1.280  3.07   718  \n",
      "70   0.906  1.82   870  \n",
      "71   1.360  3.16   410  \n",
      "72   0.980  2.78   472  \n",
      "73   1.310  3.50   985  \n",
      "74   0.990  3.13   886  \n",
      "75   1.230  2.14   428  \n",
      "76   1.190  2.48   392  \n",
      "77   0.960  2.52   500  \n",
      "78   1.060  2.31   750  \n",
      "79   1.190  3.13   463  \n",
      "80   1.380  3.12   278  \n",
      "81   1.160  3.14   714  \n",
      "82   1.310  2.72   630  \n",
      "83   0.840  2.01   515  \n",
      "84   0.790  3.08   520  \n",
      "85   1.230  3.16   450  \n",
      "86   1.330  2.26   495  \n",
      "87   1.360  3.21   562  \n",
      "88   1.000  2.75   680  \n",
      "89   1.070  3.21   625  \n",
      "90   1.080  2.27   480  \n",
      "91   1.050  2.65   450  \n",
      "92   0.960  2.06   495  \n",
      "93   1.150  3.30   290  \n",
      "94   1.160  2.96   345  \n",
      "95   1.160  2.63   937  \n",
      "96   0.950  2.26   625  \n",
      "97   1.230  2.74   428  \n",
      "98   1.040  2.77   660  \n",
      "99   1.420  2.83   406  \n",
      "100  1.270  2.96   710  \n",
      "101  1.040  2.77   562  \n",
      "102  0.800  3.38   438  \n",
      "103  0.940  2.44   415  \n",
      "104  1.040  3.57   672  \n",
      "105  0.860  3.30   315  \n",
      "106  1.000  3.17   510  \n",
      "107  0.880  2.42   488  \n",
      "108  0.860  3.02   312  \n",
      "109  0.960  3.26   680  \n",
      "110  0.750  2.81   562  \n",
      "111  0.900  2.78   325  \n",
      "112  1.230  2.50   607  \n",
      "113  1.100  2.31   434  \n",
      "114  0.930  3.19   385  \n",
      "115  1.710  2.87   407  \n",
      "116  0.950  3.33   495  \n",
      "117  1.060  2.96   345  \n",
      "118  0.700  2.12   372  \n",
      "119  0.930  3.05   564  \n",
      "120  0.800  3.39   625  \n",
      "121  0.930  3.69   465  \n",
      "122  0.920  3.12   365  \n",
      "123  0.730  3.10   380  \n",
      "124  0.750  3.64   380  \n",
      "125  0.860  3.28   378  \n",
      "126  0.690  2.84   352  \n",
      "127  0.970  2.44   466  \n",
      "128  0.890  2.78   342  \n",
      "129  0.790  2.57   580  \n",
      "130  0.760  1.29   630  \n",
      "131  0.740  1.42   530  \n",
      "132  0.660  1.36   560  \n",
      "133  0.780  1.29   600  \n",
      "134  0.750  1.51   650  \n",
      "135  0.730  1.58   695  \n",
      "136  0.750  1.27   720  \n",
      "137  0.820  1.69   515  \n",
      "138  0.810  1.82   580  \n",
      "139  0.890  2.15   590  \n",
      "140  0.770  2.31   600  \n",
      "141  0.700  2.47   780  \n",
      "142  0.890  2.06   520  \n",
      "143  0.910  2.05   550  \n",
      "144  0.650  2.00   855  \n",
      "145  0.600  1.68   830  \n",
      "146  0.580  1.33   415  \n",
      "147  0.540  1.86   625  \n",
      "148  0.550  1.62   650  \n",
      "149  0.570  1.33   550  \n",
      "150  0.590  1.30   500  \n",
      "151  0.480  1.47   480  \n",
      "152  0.610  1.33   425  \n",
      "153  0.560  1.51   675  \n",
      "154  0.580  1.55   640  \n",
      "155  0.600  1.48   725  \n",
      "156  0.570  1.64   480  \n",
      "157  0.670  1.73   880  \n",
      "158  0.570  1.96   660  \n",
      "159  0.570  1.78   620  \n",
      "160  0.560  1.58   520  \n",
      "161  0.960  1.82   680  \n",
      "162  0.870  2.11   570  \n",
      "163  0.680  1.75   675  \n",
      "164  0.700  1.68   615  \n",
      "165  0.780  1.75   520  \n",
      "166  0.850  1.56   695  \n",
      "167  0.720  1.75   685  \n",
      "168  0.740  1.80   750  \n",
      "169  0.670  1.92   630  \n",
      "170  0.660  1.83   510  \n",
      "171  0.570  1.63   470  \n",
      "172  0.620  1.71   660  \n",
      "173  0.640  1.74   740  \n",
      "174  0.700  1.56   750  \n",
      "175  0.590  1.56   835  \n",
      "176  0.600  1.62   840  \n",
      "177  0.610  1.60   560  \n"
     ]
    }
   ],
   "source": [
    "# reading csv files\n",
    "wine_data =  pd.read_csv('wine.data', header = None)\n",
    "print(wine_data)\n",
    " "
   ]
  },
  {
   "cell_type": "code",
   "execution_count": 4,
   "id": "independent-likelihood",
   "metadata": {},
   "outputs": [],
   "source": [
    "#Given the columns names are just numbers, we can give them their respective labels mentioned on \n",
    "#https://archive.ics.uci.edu/ml/datasets/wine data repository \n",
    "\n",
    "wine_data.columns = ['Label', 'Alcohol', 'Malic Acid', 'Ash', 'Alcalinity of ash ', \n",
    "                'Magnesium', 'Total phenols', 'Flavanoids' , 'Nonflavanoid phenols', \n",
    "                'Proanthocyanins', 'Color intensity', 'Hue', 'OD280/OD315 of diluted wines', 'Proline']"
   ]
  },
  {
   "cell_type": "markdown",
   "id": "current-school",
   "metadata": {},
   "source": [
    "Out of the 178 samples, and 14 attributes, none attributes has any missing data."
   ]
  },
  {
   "cell_type": "code",
   "execution_count": 5,
   "id": "experienced-johnson",
   "metadata": {},
   "outputs": [
    {
     "name": "stdout",
     "output_type": "stream",
     "text": [
      "(178, 14)\n",
      "Label                           0\n",
      "Alcohol                         0\n",
      "Malic Acid                      0\n",
      "Ash                             0\n",
      "Alcalinity of ash               0\n",
      "Magnesium                       0\n",
      "Total phenols                   0\n",
      "Flavanoids                      0\n",
      "Nonflavanoid phenols            0\n",
      "Proanthocyanins                 0\n",
      "Color intensity                 0\n",
      "Hue                             0\n",
      "OD280/OD315 of diluted wines    0\n",
      "Proline                         0\n",
      "dtype: int64\n"
     ]
    }
   ],
   "source": [
    "print(wine_data.shape)\n",
    "print(wine_data.isna().sum())"
   ]
  },
  {
   "cell_type": "code",
   "execution_count": 6,
   "id": "fatal-gasoline",
   "metadata": {},
   "outputs": [
    {
     "data": {
      "text/plain": [
       "2    71\n",
       "1    59\n",
       "3    48\n",
       "Name: Label, dtype: int64"
      ]
     },
     "execution_count": 6,
     "metadata": {},
     "output_type": "execute_result"
    }
   ],
   "source": [
    "wine_data['Label'].value_counts()"
   ]
  },
  {
   "cell_type": "markdown",
   "id": "compliant-duration",
   "metadata": {},
   "source": [
    "From the below plot, the label class appears to be slighlty imbalanced "
   ]
  },
  {
   "cell_type": "code",
   "execution_count": 7,
   "id": "monetary-interpretation",
   "metadata": {
    "scrolled": true
   },
   "outputs": [
    {
     "data": {
      "text/plain": [
       "<AxesSubplot:>"
      ]
     },
     "execution_count": 7,
     "metadata": {},
     "output_type": "execute_result"
    },
    {
     "data": {
      "image/png": "[encoded data removed]",
      "text/plain": [
       "<Figure size 432x288 with 1 Axes>"
      ]
     },
     "metadata": {
      "needs_background": "light"
     },
     "output_type": "display_data"
    }
   ],
   "source": [
    "wine_data['Label'].value_counts()[:3].plot(kind='barh')"
   ]
  },
  {
   "cell_type": "code",
   "execution_count": 8,
   "id": "binary-accommodation",
   "metadata": {},
   "outputs": [
    {
     "data": {
      "text/plain": [
       "Index(['Label', 'Alcohol', 'Malic Acid', 'Ash', 'Alcalinity of ash ',\n",
       "       'Magnesium', 'Total phenols', 'Flavanoids', 'Nonflavanoid phenols',\n",
       "       'Proanthocyanins', 'Color intensity', 'Hue',\n",
       "       'OD280/OD315 of diluted wines', 'Proline'],\n",
       "      dtype='object')"
      ]
     },
     "execution_count": 8,
     "metadata": {},
     "output_type": "execute_result"
    }
   ],
   "source": [
    "wine_data.columns"
   ]
  },
  {
   "cell_type": "code",
   "execution_count": 9,
   "id": "republican-cliff",
   "metadata": {},
   "outputs": [],
   "source": [
    "Labels = {1:'one', 2:'two', 3:'three'}"
   ]
  },
  {
   "cell_type": "code",
   "execution_count": 10,
   "id": "thirty-subject",
   "metadata": {},
   "outputs": [],
   "source": [
    "wine_data['Labels']= wine_data['Label'].map(Labels)"
   ]
  },
  {
   "cell_type": "code",
   "execution_count": 12,
   "id": "vertical-finder",
   "metadata": {},
   "outputs": [
    {
     "data": {
      "text/plain": [
       "Text(0, 0.5, 'Malic Acid')"
      ]
     },
     "execution_count": 12,
     "metadata": {},
     "output_type": "execute_result"
    },
    {
     "data": {
      "image/png": "[encoded data removed]",
      "text/plain": [
       "<Figure size 432x288 with 1 Axes>"
      ]
     },
     "metadata": {
      "needs_background": "light"
     },
     "output_type": "display_data"
    }
   ],
   "source": [
    "# create color dictionary\n",
    "colors = {'one':'r', 'two':'g', 'three':'b'}\n",
    "\n",
    "# create a figure and axis\n",
    "fig, ax = plt.subplots()\n",
    "\n",
    "# plot each data-point\n",
    "for i in range(len(wine_data['Alcohol'])):\n",
    "    ax.scatter(wine_data['Alcohol'][i], wine_data['Malic Acid'][i],color=colors[wine_data['Labels'][i]])\n",
    "\n",
    "# set a title and labels\n",
    "ax.set_title('Wine Dataset')\n",
    "ax.set_xlabel('Alcohol')\n",
    "ax.set_ylabel('Malic Acid')"
   ]
  },
  {
   "cell_type": "markdown",
   "id": "jewish-pointer",
   "metadata": {},
   "source": [
    "Above plot, shows that the level of Alcohol from 13 to 14 are mostly part of class one, as the level lowers down i.e. within 11.5 to 12.5 we can see the classes scattered for class 2. Levels of Malic acid which mostly can be seen around from 1 to 3.5, there are  are a part of class 1 and 2. "
   ]
  },
  {
   "cell_type": "code",
   "execution_count": 13,
   "id": "mobile-reading",
   "metadata": {},
   "outputs": [
    {
     "data": {
      "text/plain": [
       "Text(0, 0.5, 'Alcalinity of ash ')"
      ]
     },
     "execution_count": 13,
     "metadata": {},
     "output_type": "execute_result"
    },
    {
     "data": {
      "image/png": "[encoded data removed]",
      "text/plain": [
       "<Figure size 432x288 with 1 Axes>"
      ]
     },
     "metadata": {
      "needs_background": "light"
     },
     "output_type": "display_data"
    }
   ],
   "source": [
    "# create color dictionary\n",
    "colors = {'one':'r', 'two':'g', 'three':'b'}\n",
    "\n",
    "# create a figure and axis\n",
    "fig, ax = plt.subplots()\n",
    "\n",
    "# plot each data-point\n",
    "for i in range(len(wine_data['Ash'])):\n",
    "    ax.scatter(wine_data['Ash'][i], wine_data['Alcalinity of ash '][i],color=colors[wine_data['Labels'][i]])\n",
    "\n",
    "# set a title and labels\n",
    "ax.set_title('Wine Dataset')\n",
    "ax.set_xlabel('Ash')\n",
    "ax.set_ylabel('Alcalinity of ash ')"
   ]
  },
  {
   "cell_type": "code",
   "execution_count": 14,
   "id": "smart-inventory",
   "metadata": {},
   "outputs": [
    {
     "data": {
      "text/plain": [
       "Text(0, 0.5, 'Total phenols')"
      ]
     },
     "execution_count": 14,
     "metadata": {},
     "output_type": "execute_result"
    },
    {
     "data": {
      "image/png": "[encoded data removed]",
      "text/plain": [
       "<Figure size 432x288 with 1 Axes>"
      ]
     },
     "metadata": {
      "needs_background": "light"
     },
     "output_type": "display_data"
    }
   ],
   "source": [
    "# create color dictionary\n",
    "colors = {'one':'r', 'two':'g', 'three':'b'}\n",
    "\n",
    "# create a figure and axis\n",
    "fig, ax = plt.subplots()\n",
    "\n",
    "# plot each data-point\n",
    "for i in range(len(wine_data['Magnesium'])):\n",
    "    ax.scatter(wine_data['Magnesium'][i], wine_data['Total phenols'][i],color=colors[wine_data['Labels'][i]])\n",
    "\n",
    "# set a title and labels\n",
    "ax.set_title('Wine Dataset')\n",
    "ax.set_xlabel('Magnesium')\n",
    "ax.set_ylabel('Total phenols')"
   ]
  },
  {
   "cell_type": "code",
   "execution_count": 15,
   "id": "subtle-palestine",
   "metadata": {},
   "outputs": [
    {
     "data": {
      "text/plain": [
       "Text(0, 0.5, 'Nonflavanoid phenols')"
      ]
     },
     "execution_count": 15,
     "metadata": {},
     "output_type": "execute_result"
    },
    {
     "data": {
      "image/png": "[encoded data removed]",
      "text/plain": [
       "<Figure size 432x288 with 1 Axes>"
      ]
     },
     "metadata": {
      "needs_background": "light"
     },
     "output_type": "display_data"
    }
   ],
   "source": [
    "# create color dictionary\n",
    "colors = {'one':'r', 'two':'g', 'three':'b'}\n",
    "\n",
    "# create a figure and axis\n",
    "fig, ax = plt.subplots()\n",
    "\n",
    "# plot each data-point\n",
    "for i in range(len(wine_data['Flavanoids'])):\n",
    "    ax.scatter(wine_data['Flavanoids'][i], wine_data['Nonflavanoid phenols'][i],color=colors[wine_data['Labels'][i]])\n",
    "\n",
    "# set a title and labels\n",
    "ax.set_title('Wine Dataset')\n",
    "ax.set_xlabel('Flavanoids')\n",
    "ax.set_ylabel('Nonflavanoid phenols')"
   ]
  },
  {
   "cell_type": "code",
   "execution_count": 16,
   "id": "brief-russell",
   "metadata": {},
   "outputs": [
    {
     "data": {
      "text/plain": [
       "Text(0, 0.5, 'Color intensity')"
      ]
     },
     "execution_count": 16,
     "metadata": {},
     "output_type": "execute_result"
    },
    {
     "data": {
      "image/png": "[encoded data removed]",
      "text/plain": [
       "<Figure size 432x288 with 1 Axes>"
      ]
     },
     "metadata": {
      "needs_background": "light"
     },
     "output_type": "display_data"
    }
   ],
   "source": [
    "# create color dictionary\n",
    "colors = {'one':'r', 'two':'g', 'three':'b'}\n",
    "\n",
    "# create a figure and axis\n",
    "fig, ax = plt.subplots()\n",
    "\n",
    "# plot each data-point\n",
    "for i in range(len(wine_data['Proanthocyanins'])):\n",
    "    ax.scatter(wine_data['Proanthocyanins'][i], wine_data['Color intensity'][i],color=colors[wine_data['Labels'][i]])\n",
    "\n",
    "# set a title and labels\n",
    "ax.set_title('Wine Dataset')\n",
    "ax.set_xlabel('Proanthocyanins')\n",
    "ax.set_ylabel('Color intensity')"
   ]
  },
  {
   "cell_type": "code",
   "execution_count": 17,
   "id": "standard-gardening",
   "metadata": {},
   "outputs": [
    {
     "data": {
      "text/plain": [
       "Text(0, 0.5, 'OD280/OD315 of diluted wines')"
      ]
     },
     "execution_count": 17,
     "metadata": {},
     "output_type": "execute_result"
    },
    {
     "data": {
      "image/png": "[encoded data removed]",
      "text/plain": [
       "<Figure size 432x288 with 1 Axes>"
      ]
     },
     "metadata": {
      "needs_background": "light"
     },
     "output_type": "display_data"
    }
   ],
   "source": [
    "# create color dictionary\n",
    "colors = {'one':'r', 'two':'g', 'three':'b'}\n",
    "\n",
    "# create a figure and axis\n",
    "fig, ax = plt.subplots()\n",
    "\n",
    "# plot each data-point\n",
    "for i in range(len(wine_data['Hue'])):\n",
    "    ax.scatter(wine_data['Hue'][i], wine_data['OD280/OD315 of diluted wines'][i],color=colors[wine_data['Labels'][i]])\n",
    "\n",
    "# set a title and labels\n",
    "ax.set_title('Wine Dataset')\n",
    "ax.set_xlabel('Hue')\n",
    "ax.set_ylabel('OD280/OD315 of diluted wines')"
   ]
  },
  {
   "cell_type": "code",
   "execution_count": 18,
   "id": "loaded-tower",
   "metadata": {},
   "outputs": [
    {
     "data": {
      "text/plain": [
       "Text(0, 0.5, 'OD280/OD315 of diluted wines')"
      ]
     },
     "execution_count": 18,
     "metadata": {},
     "output_type": "execute_result"
    },
    {
     "data": {
      "image/png": "[encoded data removed]",
      "text/plain": [
       "<Figure size 432x288 with 1 Axes>"
      ]
     },
     "metadata": {
      "needs_background": "light"
     },
     "output_type": "display_data"
    }
   ],
   "source": [
    "# create color dictionary\n",
    "colors = {'one':'r', 'two':'g', 'three':'b'}\n",
    "\n",
    "# create a figure and axis\n",
    "fig, ax = plt.subplots()\n",
    "\n",
    "# plot each data-point\n",
    "for i in range(len(wine_data['Proline'])):\n",
    "    ax.scatter(wine_data['Proline'][i], wine_data['OD280/OD315 of diluted wines'][i],color=colors[wine_data['Labels'][i]])\n",
    "\n",
    "# set a title and labels\n",
    "ax.set_title('Wine Dataset')\n",
    "ax.set_xlabel('Proline')\n",
    "ax.set_ylabel('OD280/OD315 of diluted wines')"
   ]
  },
  {
   "cell_type": "code",
   "execution_count": 11,
   "id": "completed-publicity",
   "metadata": {},
   "outputs": [],
   "source": [
    "wine_data.drop('Labels', axis = 1, inplace = True)"
   ]
  },
  {
   "cell_type": "code",
   "execution_count": 12,
   "id": "gorgeous-coating",
   "metadata": {},
   "outputs": [
    {
     "data": {
      "text/html": [
       "<div>\n",
       "<style scoped>\n",
       "    .dataframe tbody tr th:only-of-type {\n",
       "        vertical-align: middle;\n",
       "    }\n",
       "\n",
       "    .dataframe tbody tr th {\n",
       "        vertical-align: top;\n",
       "    }\n",
       "\n",
       "    .dataframe thead th {\n",
       "        text-align: right;\n",
       "    }\n",
       "</style>\n",
       "<table border=\"1\" class=\"dataframe\">\n",
       "  <thead>\n",
       "    <tr style=\"text-align: right;\">\n",
       "      <th></th>\n",
       "      <th>Label</th>\n",
       "      <th>Alcohol</th>\n",
       "      <th>Malic Acid</th>\n",
       "      <th>Ash</th>\n",
       "      <th>Alcalinity of ash</th>\n",
       "      <th>Magnesium</th>\n",
       "      <th>Total phenols</th>\n",
       "      <th>Flavanoids</th>\n",
       "      <th>Nonflavanoid phenols</th>\n",
       "      <th>Proanthocyanins</th>\n",
       "      <th>Color intensity</th>\n",
       "      <th>Hue</th>\n",
       "      <th>OD280/OD315 of diluted wines</th>\n",
       "      <th>Proline</th>\n",
       "    </tr>\n",
       "  </thead>\n",
       "  <tbody>\n",
       "    <tr>\n",
       "      <th>0</th>\n",
       "      <td>1</td>\n",
       "      <td>14.23</td>\n",
       "      <td>1.71</td>\n",
       "      <td>2.43</td>\n",
       "      <td>15.6</td>\n",
       "      <td>127</td>\n",
       "      <td>2.80</td>\n",
       "      <td>3.06</td>\n",
       "      <td>0.28</td>\n",
       "      <td>2.29</td>\n",
       "      <td>5.64</td>\n",
       "      <td>1.04</td>\n",
       "      <td>3.92</td>\n",
       "      <td>1065</td>\n",
       "    </tr>\n",
       "    <tr>\n",
       "      <th>1</th>\n",
       "      <td>1</td>\n",
       "      <td>13.20</td>\n",
       "      <td>1.78</td>\n",
       "      <td>2.14</td>\n",
       "      <td>11.2</td>\n",
       "      <td>100</td>\n",
       "      <td>2.65</td>\n",
       "      <td>2.76</td>\n",
       "      <td>0.26</td>\n",
       "      <td>1.28</td>\n",
       "      <td>4.38</td>\n",
       "      <td>1.05</td>\n",
       "      <td>3.40</td>\n",
       "      <td>1050</td>\n",
       "    </tr>\n",
       "    <tr>\n",
       "      <th>2</th>\n",
       "      <td>1</td>\n",
       "      <td>13.16</td>\n",
       "      <td>2.36</td>\n",
       "      <td>2.67</td>\n",
       "      <td>18.6</td>\n",
       "      <td>101</td>\n",
       "      <td>2.80</td>\n",
       "      <td>3.24</td>\n",
       "      <td>0.30</td>\n",
       "      <td>2.81</td>\n",
       "      <td>5.68</td>\n",
       "      <td>1.03</td>\n",
       "      <td>3.17</td>\n",
       "      <td>1185</td>\n",
       "    </tr>\n",
       "    <tr>\n",
       "      <th>3</th>\n",
       "      <td>1</td>\n",
       "      <td>14.37</td>\n",
       "      <td>1.95</td>\n",
       "      <td>2.50</td>\n",
       "      <td>16.8</td>\n",
       "      <td>113</td>\n",
       "      <td>3.85</td>\n",
       "      <td>3.49</td>\n",
       "      <td>0.24</td>\n",
       "      <td>2.18</td>\n",
       "      <td>7.80</td>\n",
       "      <td>0.86</td>\n",
       "      <td>3.45</td>\n",
       "      <td>1480</td>\n",
       "    </tr>\n",
       "    <tr>\n",
       "      <th>4</th>\n",
       "      <td>1</td>\n",
       "      <td>13.24</td>\n",
       "      <td>2.59</td>\n",
       "      <td>2.87</td>\n",
       "      <td>21.0</td>\n",
       "      <td>118</td>\n",
       "      <td>2.80</td>\n",
       "      <td>2.69</td>\n",
       "      <td>0.39</td>\n",
       "      <td>1.82</td>\n",
       "      <td>4.32</td>\n",
       "      <td>1.04</td>\n",
       "      <td>2.93</td>\n",
       "      <td>735</td>\n",
       "    </tr>\n",
       "  </tbody>\n",
       "</table>\n",
       "</div>"
      ],
      "text/plain": [
       "   Label  Alcohol  Malic Acid   Ash  Alcalinity of ash   Magnesium  \\\n",
       "0      1    14.23        1.71  2.43                15.6        127   \n",
       "1      1    13.20        1.78  2.14                11.2        100   \n",
       "2      1    13.16        2.36  2.67                18.6        101   \n",
       "3      1    14.37        1.95  2.50                16.8        113   \n",
       "4      1    13.24        2.59  2.87                21.0        118   \n",
       "\n",
       "   Total phenols  Flavanoids  Nonflavanoid phenols  Proanthocyanins  \\\n",
       "0           2.80        3.06                  0.28             2.29   \n",
       "1           2.65        2.76                  0.26             1.28   \n",
       "2           2.80        3.24                  0.30             2.81   \n",
       "3           3.85        3.49                  0.24             2.18   \n",
       "4           2.80        2.69                  0.39             1.82   \n",
       "\n",
       "   Color intensity   Hue  OD280/OD315 of diluted wines  Proline  \n",
       "0             5.64  1.04                          3.92     1065  \n",
       "1             4.38  1.05                          3.40     1050  \n",
       "2             5.68  1.03                          3.17     1185  \n",
       "3             7.80  0.86                          3.45     1480  \n",
       "4             4.32  1.04                          2.93      735  "
      ]
     },
     "execution_count": 12,
     "metadata": {},
     "output_type": "execute_result"
    }
   ],
   "source": [
    "wine_data.head()"
   ]
  },
  {
   "cell_type": "code",
   "execution_count": 13,
   "id": "connected-booth",
   "metadata": {},
   "outputs": [
    {
     "name": "stdout",
     "output_type": "stream",
     "text": [
      "[[1.423e+01 1.710e+00 2.430e+00 ... 1.040e+00 3.920e+00 1.065e+03]\n",
      " [1.320e+01 1.780e+00 2.140e+00 ... 1.050e+00 3.400e+00 1.050e+03]\n",
      " [1.316e+01 2.360e+00 2.670e+00 ... 1.030e+00 3.170e+00 1.185e+03]\n",
      " ...\n",
      " [1.327e+01 4.280e+00 2.260e+00 ... 5.900e-01 1.560e+00 8.350e+02]\n",
      " [1.317e+01 2.590e+00 2.370e+00 ... 6.000e-01 1.620e+00 8.400e+02]\n",
      " [1.413e+01 4.100e+00 2.740e+00 ... 6.100e-01 1.600e+00 5.600e+02]]\n",
      "0      1\n",
      "1      1\n",
      "2      1\n",
      "3      1\n",
      "4      1\n",
      "5      1\n",
      "6      1\n",
      "7      1\n",
      "8      1\n",
      "9      1\n",
      "10     1\n",
      "11     1\n",
      "12     1\n",
      "13     1\n",
      "14     1\n",
      "15     1\n",
      "16     1\n",
      "17     1\n",
      "18     1\n",
      "19     1\n",
      "20     1\n",
      "21     1\n",
      "22     1\n",
      "23     1\n",
      "24     1\n",
      "25     1\n",
      "26     1\n",
      "27     1\n",
      "28     1\n",
      "29     1\n",
      "30     1\n",
      "31     1\n",
      "32     1\n",
      "33     1\n",
      "34     1\n",
      "35     1\n",
      "36     1\n",
      "37     1\n",
      "38     1\n",
      "39     1\n",
      "40     1\n",
      "41     1\n",
      "42     1\n",
      "43     1\n",
      "44     1\n",
      "45     1\n",
      "46     1\n",
      "47     1\n",
      "48     1\n",
      "49     1\n",
      "50     1\n",
      "51     1\n",
      "52     1\n",
      "53     1\n",
      "54     1\n",
      "55     1\n",
      "56     1\n",
      "57     1\n",
      "58     1\n",
      "59     2\n",
      "60     2\n",
      "61     2\n",
      "62     2\n",
      "63     2\n",
      "64     2\n",
      "65     2\n",
      "66     2\n",
      "67     2\n",
      "68     2\n",
      "69     2\n",
      "70     2\n",
      "71     2\n",
      "72     2\n",
      "73     2\n",
      "74     2\n",
      "75     2\n",
      "76     2\n",
      "77     2\n",
      "78     2\n",
      "79     2\n",
      "80     2\n",
      "81     2\n",
      "82     2\n",
      "83     2\n",
      "84     2\n",
      "85     2\n",
      "86     2\n",
      "87     2\n",
      "88     2\n",
      "89     2\n",
      "90     2\n",
      "91     2\n",
      "92     2\n",
      "93     2\n",
      "94     2\n",
      "95     2\n",
      "96     2\n",
      "97     2\n",
      "98     2\n",
      "99     2\n",
      "100    2\n",
      "101    2\n",
      "102    2\n",
      "103    2\n",
      "104    2\n",
      "105    2\n",
      "106    2\n",
      "107    2\n",
      "108    2\n",
      "109    2\n",
      "110    2\n",
      "111    2\n",
      "112    2\n",
      "113    2\n",
      "114    2\n",
      "115    2\n",
      "116    2\n",
      "117    2\n",
      "118    2\n",
      "119    2\n",
      "120    2\n",
      "121    2\n",
      "122    2\n",
      "123    2\n",
      "124    2\n",
      "125    2\n",
      "126    2\n",
      "127    2\n",
      "128    2\n",
      "129    2\n",
      "130    3\n",
      "131    3\n",
      "132    3\n",
      "133    3\n",
      "134    3\n",
      "135    3\n",
      "136    3\n",
      "137    3\n",
      "138    3\n",
      "139    3\n",
      "140    3\n",
      "141    3\n",
      "142    3\n",
      "143    3\n",
      "144    3\n",
      "145    3\n",
      "146    3\n",
      "147    3\n",
      "148    3\n",
      "149    3\n",
      "150    3\n",
      "151    3\n",
      "152    3\n",
      "153    3\n",
      "154    3\n",
      "155    3\n",
      "156    3\n",
      "157    3\n",
      "158    3\n",
      "159    3\n",
      "160    3\n",
      "161    3\n",
      "162    3\n",
      "163    3\n",
      "164    3\n",
      "165    3\n",
      "166    3\n",
      "167    3\n",
      "168    3\n",
      "169    3\n",
      "170    3\n",
      "171    3\n",
      "172    3\n",
      "173    3\n",
      "174    3\n",
      "175    3\n",
      "176    3\n",
      "177    3\n",
      "Name: Label, dtype: int64\n"
     ]
    }
   ],
   "source": [
    "#dividng the predictors and target variable for training data set \n",
    "predictors = wine_data.iloc[:, 1:].to_numpy()\n",
    "target = wine_data.iloc[:, 0]\n",
    "print(predictors)\n",
    "print(target)"
   ]
  },
  {
   "cell_type": "code",
   "execution_count": 14,
   "id": "reasonable-portuguese",
   "metadata": {},
   "outputs": [],
   "source": [
    "target = np.array(target) - 1   #some classifiers of sklearn read class labels from 0, hence the numeric labels  "
   ]
  },
  {
   "cell_type": "code",
   "execution_count": 15,
   "id": "guilty-plant",
   "metadata": {},
   "outputs": [
    {
     "data": {
      "text/plain": [
       "Text(0.5, 1.0, 'Raw training data')"
      ]
     },
     "execution_count": 15,
     "metadata": {},
     "output_type": "execute_result"
    },
    {
     "data": {
      "image/png": "[encoded data removed]",
      "text/plain": [
       "<Figure size 1800x576 with 1 Axes>"
      ]
     },
     "metadata": {
      "needs_background": "light"
     },
     "output_type": "display_data"
    }
   ],
   "source": [
    "# plot box plot for the data \n",
    "\n",
    "fig = plt.figure(figsize = [25,8])\n",
    "ax = fig.add_subplot(1,2,1)\n",
    "ax.boxplot(predictors)\n",
    "ax.set_title('Raw training data')"
   ]
  },
  {
   "cell_type": "markdown",
   "id": "tamil-attitude",
   "metadata": {},
   "source": [
    "We can see that the chemical constituents are on different scales here, so we have to bring them to equal standard scales for which normalisation has to be done. It is computed by calculating the features's mean and standard deviation. Further, M is subtracted from each feature which is divided further by its standard deviation. This normalisation causes the data to be centered around the origin which can be shown through the below box plot.  "
   ]
  },
  {
   "cell_type": "code",
   "execution_count": 16,
   "id": "bright-establishment",
   "metadata": {},
   "outputs": [
    {
     "name": "stdout",
     "output_type": "stream",
     "text": [
      "[[ 1.51861254 -0.5622498   0.23205254 ...  0.36217728  1.84791957\n",
      "   1.01300893]\n",
      " [ 0.24628963 -0.49941338 -0.82799632 ...  0.40605066  1.1134493\n",
      "   0.96524152]\n",
      " [ 0.19687903  0.02123125  1.10933436 ...  0.31830389  0.78858745\n",
      "   1.39514818]\n",
      " ...\n",
      " [ 0.33275817  1.74474449 -0.38935541 ... -1.61212515 -1.48544548\n",
      "   0.28057537]\n",
      " [ 0.20923168  0.22769377  0.01273209 ... -1.56825176 -1.40069891\n",
      "   0.29649784]\n",
      " [ 1.39508604  1.58316512  1.36520822 ... -1.52437837 -1.42894777\n",
      "  -0.59516041]]\n"
     ]
    },
    {
     "data": {
      "text/plain": [
       "Text(0.5, 1.0, 'Standardised training data')"
      ]
     },
     "execution_count": 16,
     "metadata": {},
     "output_type": "execute_result"
    },
    {
     "data": {
      "image/png": "[encoded data removed]",
      "text/plain": [
       "<Figure size 1800x576 with 1 Axes>"
      ]
     },
     "metadata": {
      "needs_background": "light"
     },
     "output_type": "display_data"
    }
   ],
   "source": [
    "#standardise data and plotting for training set \n",
    "\n",
    "mu = np.mean(predictors, 0)\n",
    "sigma = np.std(predictors, 0)\n",
    "WineX = (predictors - mu)/sigma\n",
    "print(WineX)\n",
    "\n",
    "fig = plt.figure(figsize = [25,8])\n",
    "ax = fig.add_subplot(1,2,1)\n",
    "ax.boxplot(WineX)\n",
    "ax.set_title('Standardised training data')"
   ]
  },
  {
   "cell_type": "code",
   "execution_count": 17,
   "id": "canadian-layout",
   "metadata": {},
   "outputs": [
    {
     "data": {
      "image/png": "[encoded data removed]",
      "text/plain": [
       "<Figure size 1440x1440 with 2 Axes>"
      ]
     },
     "metadata": {
      "needs_background": "light"
     },
     "output_type": "display_data"
    }
   ],
   "source": [
    "fig = plt.figure(figsize=(20,20))\n",
    "corr = wine_data.corr()\n",
    "ax = sns.heatmap(\n",
    "    corr, \n",
    "    vmin=-1, vmax=1, center=0,\n",
    "    cmap=sns.diverging_palette(20, 220, n=200),\n",
    "    square=True,\n",
    "    annot=True, fmt=\"f\",\n",
    ")\n",
    "ax.set_xticklabels(\n",
    "    ax.get_xticklabels(),\n",
    "    rotation=45,\n",
    "    horizontalalignment='right'\n",
    ");"
   ]
  },
  {
   "cell_type": "markdown",
   "id": "unnecessary-limit",
   "metadata": {},
   "source": [
    "From the above correlation plot, more darker greens and reds which suggests that the chemical constituents are correlated with each other. Rather than removing them, we will apply unsupervised learning method; PCA, to reconstruct these dimensions into principal components. These principal components, reconstructs or transforms the features into a n * n array giving us the most information with a high variance. Using these transformed features, to classify constituents in their respective classes. We will also see the use of transforming features into eigen vectors. We will see how PCA uses high variance transfromation for separation of classes, whereas LDA uses these dimensions to maximise separation between the classes. Here, our approch will see which transformation of componenets would results in best separation of classes, and use those trasnformed features for classying our cultivators of wine in their respective chemical consitutents. "
   ]
  },
  {
   "cell_type": "code",
   "execution_count": 18,
   "id": "private-bathroom",
   "metadata": {},
   "outputs": [
    {
     "name": "stdout",
     "output_type": "stream",
     "text": [
      "[[ 0.1443294  -0.24518758 -0.00205106 -0.23932041  0.14199204  0.39466085\n",
      "   0.4229343  -0.2985331   0.31342949 -0.0886167   0.29671456  0.37616741\n",
      "   0.28675223]\n",
      " [-0.48365155 -0.22493093 -0.31606881  0.0105905  -0.299634   -0.06503951\n",
      "   0.00335981 -0.02877949 -0.03930172 -0.52999567  0.27923515  0.16449619\n",
      "  -0.36490283]\n",
      " [-0.20738262  0.08901289  0.6262239   0.61208035  0.13075693  0.14617896\n",
      "   0.1506819   0.17036816  0.14945431 -0.13730621  0.08522192  0.16600459\n",
      "  -0.12674592]\n",
      " [-0.0178563   0.53689028 -0.21417556  0.06085941 -0.35179658  0.19806835\n",
      "   0.15229479 -0.20330102  0.39905653  0.06592568 -0.42777141  0.18412074\n",
      "  -0.23207086]\n",
      " [-0.26566365  0.03521363 -0.14302547  0.06610294  0.72704851 -0.14931841\n",
      "  -0.10902584 -0.50070298  0.13685982 -0.07643678 -0.17361452 -0.10116099\n",
      "  -0.1578688 ]\n",
      " [-0.21353865 -0.53681385 -0.15447466  0.10082451 -0.03814394  0.0841223\n",
      "   0.01892002  0.25859401  0.53379539  0.41864414 -0.10598274 -0.26585107\n",
      "  -0.11972557]\n",
      " [-0.05639636  0.42052391 -0.14917061 -0.28696914  0.3228833  -0.02792498\n",
      "  -0.06068521  0.59544729  0.37213935 -0.22771214  0.23207564 -0.0447637\n",
      "   0.0768045 ]\n",
      " [-0.39613926 -0.06582674  0.17026002 -0.42797018  0.15636143  0.40593409\n",
      "   0.18724536  0.23328465 -0.36822675  0.03379692 -0.43662362  0.07810789\n",
      "  -0.12002267]\n",
      " [ 0.50861912 -0.07528304 -0.30769445  0.20044931  0.27140257  0.28603452\n",
      "   0.04957849  0.19550132 -0.20914487  0.05621752  0.08582839  0.1372269\n",
      "  -0.57578611]\n",
      " [ 0.21160473 -0.30907994 -0.02712539  0.05279942  0.06787022 -0.32013135\n",
      "  -0.16315051  0.21553507  0.1341839  -0.29077518 -0.52239889  0.52370587\n",
      "   0.162116  ]\n",
      " [-0.22591696  0.07648554 -0.49869142  0.47931378  0.07128891  0.30434119\n",
      "  -0.02569409  0.11689586 -0.23736257  0.0318388  -0.04821201  0.0464233\n",
      "   0.53926983]\n",
      " [-0.26628645  0.12169604 -0.04962237 -0.05574287  0.06222011 -0.30388245\n",
      "  -0.04289883  0.04235219 -0.09555303  0.60422163  0.259214    0.60095872\n",
      "  -0.07940162]\n",
      " [ 0.01496997  0.02596375 -0.14121803  0.09168285  0.05677422 -0.46390791\n",
      "   0.83225706  0.11403985 -0.11691707 -0.0119928  -0.08988884 -0.15671813\n",
      "   0.01444734]]\n",
      "[4.73243698 2.51108093 1.45424187 0.92416587 0.85804868 0.64528221\n",
      " 0.55414147 0.35046627 0.29051203 0.25232001 0.22706428 0.16972374\n",
      " 0.10396199]\n",
      "[0.36198848 0.1920749  0.11123631 0.0706903  0.06563294 0.04935823\n",
      " 0.04238679 0.02680749 0.02222153 0.01930019 0.01736836 0.01298233\n",
      " 0.00795215]\n"
     ]
    }
   ],
   "source": [
    "from sklearn.decomposition import PCA\n",
    "\n",
    "pca = decomposition.PCA()\n",
    "pca.fit(WineX)\n",
    "\n",
    "print(pca.components_)\n",
    "print(pca.explained_variance_)     \n",
    "print(pca.explained_variance_ratio_)"
   ]
  },
  {
   "cell_type": "code",
   "execution_count": 19,
   "id": "temporal-broadway",
   "metadata": {},
   "outputs": [
    {
     "name": "stdout",
     "output_type": "stream",
     "text": [
      "(13, 13)\n"
     ]
    }
   ],
   "source": [
    "print(np.shape(pca.components_))"
   ]
  },
  {
   "cell_type": "markdown",
   "id": "native-turner",
   "metadata": {},
   "source": [
    "Learn thirteen new dimensions which are a combination of existing 13 dimensions already involved in the dataset."
   ]
  },
  {
   "cell_type": "code",
   "execution_count": 20,
   "id": "coupled-moral",
   "metadata": {},
   "outputs": [
    {
     "name": "stdout",
     "output_type": "stream",
     "text": [
      "[0.36198848 0.1920749  0.11123631 0.0706903  0.06563294 0.04935823\n",
      " 0.04238679 0.02680749 0.02222153 0.01930019 0.01736836 0.01298233\n",
      " 0.00795215]\n"
     ]
    },
    {
     "data": {
      "text/plain": [
       "Text(0.5, 0, 'Number of Components')"
      ]
     },
     "execution_count": 20,
     "metadata": {},
     "output_type": "execute_result"
    },
    {
     "data": {
      "image/png": "[encoded data removed]",
      "text/plain": [
       "<Figure size 432x288 with 1 Axes>"
      ]
     },
     "metadata": {
      "needs_background": "light"
     },
     "output_type": "display_data"
    }
   ],
   "source": [
    "transformed = pca.transform(WineX)\n",
    "print(pca.explained_variance_ratio_)\n",
    "cumulative_sum = np.cumsum(pca.explained_variance_ratio_, axis=0)\n",
    "fig = plt.figure()\n",
    "ax = fig.add_subplot(1, 1, 1)\n",
    "ax.plot(range(1, 14), cumulative_sum)\n",
    "ax.set_title('Cumulative Sum of PCA Explained Variance')\n",
    "ax.set_ylabel('Explained Variance')\n",
    "ax.set_xlabel('Number of Components')"
   ]
  },
  {
   "cell_type": "code",
   "execution_count": 21,
   "id": "acknowledged-brazil",
   "metadata": {},
   "outputs": [
    {
     "data": {
      "text/html": [
       "<div>\n",
       "<style scoped>\n",
       "    .dataframe tbody tr th:only-of-type {\n",
       "        vertical-align: middle;\n",
       "    }\n",
       "\n",
       "    .dataframe tbody tr th {\n",
       "        vertical-align: top;\n",
       "    }\n",
       "\n",
       "    .dataframe thead th {\n",
       "        text-align: right;\n",
       "    }\n",
       "</style>\n",
       "<table border=\"1\" class=\"dataframe\">\n",
       "  <thead>\n",
       "    <tr style=\"text-align: right;\">\n",
       "      <th></th>\n",
       "      <th>PC1</th>\n",
       "      <th>PC2</th>\n",
       "      <th>PC3</th>\n",
       "      <th>PC4</th>\n",
       "      <th>PC5</th>\n",
       "      <th>PC6</th>\n",
       "      <th>PC7</th>\n",
       "      <th>PC8</th>\n",
       "      <th>PC9</th>\n",
       "      <th>PC10</th>\n",
       "      <th>PC11</th>\n",
       "      <th>PC12</th>\n",
       "      <th>PC13</th>\n",
       "    </tr>\n",
       "  </thead>\n",
       "  <tbody>\n",
       "    <tr>\n",
       "      <th>0</th>\n",
       "      <td>3.316751</td>\n",
       "      <td>-1.443463</td>\n",
       "      <td>-0.165739</td>\n",
       "      <td>-0.215631</td>\n",
       "      <td>0.693043</td>\n",
       "      <td>-0.223880</td>\n",
       "      <td>0.596427</td>\n",
       "      <td>0.065139</td>\n",
       "      <td>0.641443</td>\n",
       "      <td>1.020956</td>\n",
       "      <td>-0.451563</td>\n",
       "      <td>0.540810</td>\n",
       "      <td>-0.066239</td>\n",
       "    </tr>\n",
       "    <tr>\n",
       "      <th>1</th>\n",
       "      <td>2.209465</td>\n",
       "      <td>0.333393</td>\n",
       "      <td>-2.026457</td>\n",
       "      <td>-0.291358</td>\n",
       "      <td>-0.257655</td>\n",
       "      <td>-0.927120</td>\n",
       "      <td>0.053776</td>\n",
       "      <td>1.024416</td>\n",
       "      <td>-0.308847</td>\n",
       "      <td>0.159701</td>\n",
       "      <td>-0.142657</td>\n",
       "      <td>0.388238</td>\n",
       "      <td>0.003637</td>\n",
       "    </tr>\n",
       "    <tr>\n",
       "      <th>2</th>\n",
       "      <td>2.516740</td>\n",
       "      <td>-1.031151</td>\n",
       "      <td>0.982819</td>\n",
       "      <td>0.724902</td>\n",
       "      <td>-0.251033</td>\n",
       "      <td>0.549276</td>\n",
       "      <td>0.424205</td>\n",
       "      <td>-0.344216</td>\n",
       "      <td>-1.177834</td>\n",
       "      <td>0.113361</td>\n",
       "      <td>-0.286673</td>\n",
       "      <td>0.000584</td>\n",
       "      <td>0.021717</td>\n",
       "    </tr>\n",
       "    <tr>\n",
       "      <th>3</th>\n",
       "      <td>3.757066</td>\n",
       "      <td>-2.756372</td>\n",
       "      <td>-0.176192</td>\n",
       "      <td>0.567983</td>\n",
       "      <td>-0.311842</td>\n",
       "      <td>0.114431</td>\n",
       "      <td>-0.383337</td>\n",
       "      <td>0.643593</td>\n",
       "      <td>0.052544</td>\n",
       "      <td>0.239413</td>\n",
       "      <td>0.759584</td>\n",
       "      <td>-0.242020</td>\n",
       "      <td>-0.369484</td>\n",
       "    </tr>\n",
       "    <tr>\n",
       "      <th>4</th>\n",
       "      <td>1.008908</td>\n",
       "      <td>-0.869831</td>\n",
       "      <td>2.026688</td>\n",
       "      <td>-0.409766</td>\n",
       "      <td>0.298458</td>\n",
       "      <td>-0.406520</td>\n",
       "      <td>0.444074</td>\n",
       "      <td>0.416700</td>\n",
       "      <td>0.326819</td>\n",
       "      <td>-0.078366</td>\n",
       "      <td>-0.525945</td>\n",
       "      <td>-0.216664</td>\n",
       "      <td>-0.079364</td>\n",
       "    </tr>\n",
       "  </tbody>\n",
       "</table>\n",
       "</div>"
      ],
      "text/plain": [
       "        PC1       PC2       PC3       PC4       PC5       PC6       PC7  \\\n",
       "0  3.316751 -1.443463 -0.165739 -0.215631  0.693043 -0.223880  0.596427   \n",
       "1  2.209465  0.333393 -2.026457 -0.291358 -0.257655 -0.927120  0.053776   \n",
       "2  2.516740 -1.031151  0.982819  0.724902 -0.251033  0.549276  0.424205   \n",
       "3  3.757066 -2.756372 -0.176192  0.567983 -0.311842  0.114431 -0.383337   \n",
       "4  1.008908 -0.869831  2.026688 -0.409766  0.298458 -0.406520  0.444074   \n",
       "\n",
       "        PC8       PC9      PC10      PC11      PC12      PC13  \n",
       "0  0.065139  0.641443  1.020956 -0.451563  0.540810 -0.066239  \n",
       "1  1.024416 -0.308847  0.159701 -0.142657  0.388238  0.003637  \n",
       "2 -0.344216 -1.177834  0.113361 -0.286673  0.000584  0.021717  \n",
       "3  0.643593  0.052544  0.239413  0.759584 -0.242020 -0.369484  \n",
       "4  0.416700  0.326819 -0.078366 -0.525945 -0.216664 -0.079364  "
      ]
     },
     "execution_count": 21,
     "metadata": {},
     "output_type": "execute_result"
    }
   ],
   "source": [
    "wine_df = pd.DataFrame(transformed, columns = ['PC1', 'PC2','PC3', 'PC4', 'PC5', 'PC6', 'PC7','PC8', 'PC9', 'PC10', 'PC11', 'PC12','PC13'])\n",
    "wine_df.head()"
   ]
  },
  {
   "cell_type": "code",
   "execution_count": 22,
   "id": "confidential-ability",
   "metadata": {},
   "outputs": [],
   "source": [
    "LABEL = []\n",
    "\n",
    "for i in target:\n",
    "    if i == 0:\n",
    "        LABEL.append(0)\n",
    "    elif i == 1:\n",
    "        LABEL.append(1)\n",
    "    else:\n",
    "        LABEL.append(2)\n",
    "        \n",
    "Winelabel = pd.DataFrame(LABEL, columns=['Winelabel'])\n",
    "    "
   ]
  },
  {
   "cell_type": "code",
   "execution_count": 23,
   "id": "nutritional-improvement",
   "metadata": {},
   "outputs": [
    {
     "data": {
      "text/html": [
       "<div>\n",
       "<style scoped>\n",
       "    .dataframe tbody tr th:only-of-type {\n",
       "        vertical-align: middle;\n",
       "    }\n",
       "\n",
       "    .dataframe tbody tr th {\n",
       "        vertical-align: top;\n",
       "    }\n",
       "\n",
       "    .dataframe thead th {\n",
       "        text-align: right;\n",
       "    }\n",
       "</style>\n",
       "<table border=\"1\" class=\"dataframe\">\n",
       "  <thead>\n",
       "    <tr style=\"text-align: right;\">\n",
       "      <th></th>\n",
       "      <th>PC1</th>\n",
       "      <th>PC2</th>\n",
       "      <th>PC3</th>\n",
       "      <th>PC4</th>\n",
       "      <th>PC5</th>\n",
       "      <th>PC6</th>\n",
       "      <th>PC7</th>\n",
       "      <th>PC8</th>\n",
       "      <th>PC9</th>\n",
       "      <th>PC10</th>\n",
       "      <th>PC11</th>\n",
       "      <th>PC12</th>\n",
       "      <th>PC13</th>\n",
       "      <th>Winelabel</th>\n",
       "    </tr>\n",
       "  </thead>\n",
       "  <tbody>\n",
       "    <tr>\n",
       "      <th>0</th>\n",
       "      <td>3.316751</td>\n",
       "      <td>-1.443463</td>\n",
       "      <td>-0.165739</td>\n",
       "      <td>-0.215631</td>\n",
       "      <td>0.693043</td>\n",
       "      <td>-0.223880</td>\n",
       "      <td>0.596427</td>\n",
       "      <td>0.065139</td>\n",
       "      <td>0.641443</td>\n",
       "      <td>1.020956</td>\n",
       "      <td>-0.451563</td>\n",
       "      <td>0.540810</td>\n",
       "      <td>-0.066239</td>\n",
       "      <td>0</td>\n",
       "    </tr>\n",
       "    <tr>\n",
       "      <th>1</th>\n",
       "      <td>2.209465</td>\n",
       "      <td>0.333393</td>\n",
       "      <td>-2.026457</td>\n",
       "      <td>-0.291358</td>\n",
       "      <td>-0.257655</td>\n",
       "      <td>-0.927120</td>\n",
       "      <td>0.053776</td>\n",
       "      <td>1.024416</td>\n",
       "      <td>-0.308847</td>\n",
       "      <td>0.159701</td>\n",
       "      <td>-0.142657</td>\n",
       "      <td>0.388238</td>\n",
       "      <td>0.003637</td>\n",
       "      <td>0</td>\n",
       "    </tr>\n",
       "    <tr>\n",
       "      <th>2</th>\n",
       "      <td>2.516740</td>\n",
       "      <td>-1.031151</td>\n",
       "      <td>0.982819</td>\n",
       "      <td>0.724902</td>\n",
       "      <td>-0.251033</td>\n",
       "      <td>0.549276</td>\n",
       "      <td>0.424205</td>\n",
       "      <td>-0.344216</td>\n",
       "      <td>-1.177834</td>\n",
       "      <td>0.113361</td>\n",
       "      <td>-0.286673</td>\n",
       "      <td>0.000584</td>\n",
       "      <td>0.021717</td>\n",
       "      <td>0</td>\n",
       "    </tr>\n",
       "    <tr>\n",
       "      <th>3</th>\n",
       "      <td>3.757066</td>\n",
       "      <td>-2.756372</td>\n",
       "      <td>-0.176192</td>\n",
       "      <td>0.567983</td>\n",
       "      <td>-0.311842</td>\n",
       "      <td>0.114431</td>\n",
       "      <td>-0.383337</td>\n",
       "      <td>0.643593</td>\n",
       "      <td>0.052544</td>\n",
       "      <td>0.239413</td>\n",
       "      <td>0.759584</td>\n",
       "      <td>-0.242020</td>\n",
       "      <td>-0.369484</td>\n",
       "      <td>0</td>\n",
       "    </tr>\n",
       "    <tr>\n",
       "      <th>4</th>\n",
       "      <td>1.008908</td>\n",
       "      <td>-0.869831</td>\n",
       "      <td>2.026688</td>\n",
       "      <td>-0.409766</td>\n",
       "      <td>0.298458</td>\n",
       "      <td>-0.406520</td>\n",
       "      <td>0.444074</td>\n",
       "      <td>0.416700</td>\n",
       "      <td>0.326819</td>\n",
       "      <td>-0.078366</td>\n",
       "      <td>-0.525945</td>\n",
       "      <td>-0.216664</td>\n",
       "      <td>-0.079364</td>\n",
       "      <td>0</td>\n",
       "    </tr>\n",
       "  </tbody>\n",
       "</table>\n",
       "</div>"
      ],
      "text/plain": [
       "        PC1       PC2       PC3       PC4       PC5       PC6       PC7  \\\n",
       "0  3.316751 -1.443463 -0.165739 -0.215631  0.693043 -0.223880  0.596427   \n",
       "1  2.209465  0.333393 -2.026457 -0.291358 -0.257655 -0.927120  0.053776   \n",
       "2  2.516740 -1.031151  0.982819  0.724902 -0.251033  0.549276  0.424205   \n",
       "3  3.757066 -2.756372 -0.176192  0.567983 -0.311842  0.114431 -0.383337   \n",
       "4  1.008908 -0.869831  2.026688 -0.409766  0.298458 -0.406520  0.444074   \n",
       "\n",
       "        PC8       PC9      PC10      PC11      PC12      PC13  Winelabel  \n",
       "0  0.065139  0.641443  1.020956 -0.451563  0.540810 -0.066239          0  \n",
       "1  1.024416 -0.308847  0.159701 -0.142657  0.388238  0.003637          0  \n",
       "2 -0.344216 -1.177834  0.113361 -0.286673  0.000584  0.021717          0  \n",
       "3  0.643593  0.052544  0.239413  0.759584 -0.242020 -0.369484          0  \n",
       "4  0.416700  0.326819 -0.078366 -0.525945 -0.216664 -0.079364          0  "
      ]
     },
     "execution_count": 23,
     "metadata": {},
     "output_type": "execute_result"
    }
   ],
   "source": [
    "wine_features = pd.concat([wine_df, Winelabel], axis = 1)\n",
    "wine_features.head()"
   ]
  },
  {
   "cell_type": "code",
   "execution_count": 24,
   "id": "bulgarian-testing",
   "metadata": {},
   "outputs": [],
   "source": [
    "explained_variance = pca.explained_variance_ratio_"
   ]
  },
  {
   "cell_type": "code",
   "execution_count": 33,
   "id": "processed-breach",
   "metadata": {},
   "outputs": [],
   "source": [
    "#!pip install plotly"
   ]
  },
  {
   "cell_type": "code",
   "execution_count": 25,
   "id": "signal-pierre",
   "metadata": {},
   "outputs": [],
   "source": [
    "import plotly.express as px"
   ]
  },
  {
   "cell_type": "code",
   "execution_count": 26,
   "id": "technical-member",
   "metadata": {},
   "outputs": [
    {
     "data": {
      "text/plain": [
       "array([0.36198848, 0.1920749 , 0.11123631, 0.0706903 , 0.06563294,\n",
       "       0.04935823, 0.04238679, 0.02680749, 0.02222153, 0.01930019,\n",
       "       0.01736836, 0.01298233, 0.00795215])"
      ]
     },
     "execution_count": 26,
     "metadata": {},
     "output_type": "execute_result"
    }
   ],
   "source": [
    "explained_variance"
   ]
  },
  {
   "cell_type": "code",
   "execution_count": 27,
   "id": "competitive-pocket",
   "metadata": {},
   "outputs": [],
   "source": [
    "cumulative_sum = np.cumsum(np.round(explained_variance, decimals = 3))"
   ]
  },
  {
   "cell_type": "code",
   "execution_count": 28,
   "id": "solar-marker",
   "metadata": {},
   "outputs": [],
   "source": [
    "pc_df = pd.DataFrame(['PC1', 'PC2','PC3', 'PC4', 'PC5', 'PC6', 'PC7','PC8', 'PC9', 'PC10', 'PC11', 'PC12','PC13'],\n",
    "                     columns=['PC'])\n",
    "explained_varaince_df = pd.DataFrame(explained_variance, columns = ['Explained Variance'])\n",
    "cumulative_sum_df = pd.DataFrame(cumulative_sum, columns = ['Cumulative Sum'])"
   ]
  },
  {
   "cell_type": "code",
   "execution_count": 29,
   "id": "rural-affiliation",
   "metadata": {},
   "outputs": [
    {
     "data": {
      "text/html": [
       "<div>\n",
       "<style scoped>\n",
       "    .dataframe tbody tr th:only-of-type {\n",
       "        vertical-align: middle;\n",
       "    }\n",
       "\n",
       "    .dataframe tbody tr th {\n",
       "        vertical-align: top;\n",
       "    }\n",
       "\n",
       "    .dataframe thead th {\n",
       "        text-align: right;\n",
       "    }\n",
       "</style>\n",
       "<table border=\"1\" class=\"dataframe\">\n",
       "  <thead>\n",
       "    <tr style=\"text-align: right;\">\n",
       "      <th></th>\n",
       "      <th>PC</th>\n",
       "      <th>Explained Variance</th>\n",
       "      <th>Cumulative Sum</th>\n",
       "    </tr>\n",
       "  </thead>\n",
       "  <tbody>\n",
       "    <tr>\n",
       "      <th>0</th>\n",
       "      <td>PC1</td>\n",
       "      <td>0.361988</td>\n",
       "      <td>0.362</td>\n",
       "    </tr>\n",
       "    <tr>\n",
       "      <th>1</th>\n",
       "      <td>PC2</td>\n",
       "      <td>0.192075</td>\n",
       "      <td>0.554</td>\n",
       "    </tr>\n",
       "    <tr>\n",
       "      <th>2</th>\n",
       "      <td>PC3</td>\n",
       "      <td>0.111236</td>\n",
       "      <td>0.665</td>\n",
       "    </tr>\n",
       "    <tr>\n",
       "      <th>3</th>\n",
       "      <td>PC4</td>\n",
       "      <td>0.070690</td>\n",
       "      <td>0.736</td>\n",
       "    </tr>\n",
       "    <tr>\n",
       "      <th>4</th>\n",
       "      <td>PC5</td>\n",
       "      <td>0.065633</td>\n",
       "      <td>0.802</td>\n",
       "    </tr>\n",
       "    <tr>\n",
       "      <th>5</th>\n",
       "      <td>PC6</td>\n",
       "      <td>0.049358</td>\n",
       "      <td>0.851</td>\n",
       "    </tr>\n",
       "    <tr>\n",
       "      <th>6</th>\n",
       "      <td>PC7</td>\n",
       "      <td>0.042387</td>\n",
       "      <td>0.893</td>\n",
       "    </tr>\n",
       "    <tr>\n",
       "      <th>7</th>\n",
       "      <td>PC8</td>\n",
       "      <td>0.026807</td>\n",
       "      <td>0.920</td>\n",
       "    </tr>\n",
       "    <tr>\n",
       "      <th>8</th>\n",
       "      <td>PC9</td>\n",
       "      <td>0.022222</td>\n",
       "      <td>0.942</td>\n",
       "    </tr>\n",
       "    <tr>\n",
       "      <th>9</th>\n",
       "      <td>PC10</td>\n",
       "      <td>0.019300</td>\n",
       "      <td>0.961</td>\n",
       "    </tr>\n",
       "    <tr>\n",
       "      <th>10</th>\n",
       "      <td>PC11</td>\n",
       "      <td>0.017368</td>\n",
       "      <td>0.978</td>\n",
       "    </tr>\n",
       "    <tr>\n",
       "      <th>11</th>\n",
       "      <td>PC12</td>\n",
       "      <td>0.012982</td>\n",
       "      <td>0.991</td>\n",
       "    </tr>\n",
       "    <tr>\n",
       "      <th>12</th>\n",
       "      <td>PC13</td>\n",
       "      <td>0.007952</td>\n",
       "      <td>0.999</td>\n",
       "    </tr>\n",
       "  </tbody>\n",
       "</table>\n",
       "</div>"
      ],
      "text/plain": [
       "      PC  Explained Variance  Cumulative Sum\n",
       "0    PC1            0.361988           0.362\n",
       "1    PC2            0.192075           0.554\n",
       "2    PC3            0.111236           0.665\n",
       "3    PC4            0.070690           0.736\n",
       "4    PC5            0.065633           0.802\n",
       "5    PC6            0.049358           0.851\n",
       "6    PC7            0.042387           0.893\n",
       "7    PC8            0.026807           0.920\n",
       "8    PC9            0.022222           0.942\n",
       "9   PC10            0.019300           0.961\n",
       "10  PC11            0.017368           0.978\n",
       "11  PC12            0.012982           0.991\n",
       "12  PC13            0.007952           0.999"
      ]
     },
     "execution_count": 29,
     "metadata": {},
     "output_type": "execute_result"
    }
   ],
   "source": [
    "df_wine = pd.concat([pc_df, explained_varaince_df, cumulative_sum_df ], axis = 1)\n",
    "df_wine"
   ]
  },
  {
   "cell_type": "markdown",
   "id": "private-portugal",
   "metadata": {},
   "source": [
    "As we can see above, the bar represent the variance from carrying the most high variance to the lowest, the cumulative varaince is same as explained variance of PC1, but further the cumulative varaince for PC2, will be a combination of PC1 variance and PC2 variance. "
   ]
  },
  {
   "cell_type": "code",
   "execution_count": 43,
   "id": "ambient-gospel",
   "metadata": {},
   "outputs": [
    {
     "data": {
      "text/plain": [
       "array([[ 3.31675081e+00, -1.44346263e+00, -1.65739045e-01, ...,\n",
       "        -4.51563395e-01,  5.40810414e-01, -6.62386309e-02],\n",
       "       [ 2.20946492e+00,  3.33392887e-01, -2.02645737e+00, ...,\n",
       "        -1.42657306e-01,  3.88237741e-01,  3.63650247e-03],\n",
       "       [ 2.51674015e+00, -1.03115130e+00,  9.82818670e-01, ...,\n",
       "        -2.86672847e-01,  5.83573183e-04,  2.17165104e-02],\n",
       "       ...,\n",
       "       [-2.67783946e+00, -2.76089913e+00, -9.40941877e-01, ...,\n",
       "         5.12492025e-01,  6.98766451e-01,  7.20776948e-02],\n",
       "       [-2.38701709e+00, -2.29734668e+00, -5.50696197e-01, ...,\n",
       "         2.99821968e-01,  3.39820654e-01, -2.18657605e-02],\n",
       "       [-3.20875816e+00, -2.76891957e+00,  1.01391366e+00, ...,\n",
       "        -2.29964331e-01, -1.88787963e-01, -3.23964720e-01]])"
      ]
     },
     "execution_count": 43,
     "metadata": {},
     "output_type": "execute_result"
    }
   ],
   "source": [
    "transformed"
   ]
  },
  {
   "cell_type": "markdown",
   "id": "acceptable-context",
   "metadata": {},
   "source": [
    "PCA distorts if there is no standardisation for the data. "
   ]
  },
  {
   "cell_type": "code",
   "execution_count": 106,
   "id": "otherwise-capital",
   "metadata": {},
   "outputs": [
    {
     "data": {
      "text/plain": [
       "Text(0.5, 1.0, 'First two PCA Components')"
      ]
     },
     "execution_count": 106,
     "metadata": {},
     "output_type": "execute_result"
    },
    {
     "data": {
      "image/png": "[encoded data removed]",
      "text/plain": [
       "<Figure size 432x288 with 1 Axes>"
      ]
     },
     "metadata": {
      "needs_background": "light"
     },
     "output_type": "display_data"
    }
   ],
   "source": [
    "figs = plt.figure()\n",
    "axs = figs.add_subplot(1, 1, 1)\n",
    "axs.scatter(transformed[:,0], transformed[:,1], c=target);\n",
    "axs.set_title('First two PCA Components')"
   ]
  },
  {
   "cell_type": "code",
   "execution_count": 111,
   "id": "spread-occupation",
   "metadata": {},
   "outputs": [
    {
     "data": {
      "text/plain": [
       "Text(0.5, 1.0, 'First three PCA Components')"
      ]
     },
     "execution_count": 111,
     "metadata": {},
     "output_type": "execute_result"
    },
    {
     "data": {
      "image/png": "[encoded data removed]",
      "text/plain": [
       "<Figure size 432x288 with 1 Axes>"
      ]
     },
     "metadata": {
      "needs_background": "light"
     },
     "output_type": "display_data"
    }
   ],
   "source": [
    "fig = plt.figure()\n",
    "ax = fig.add_subplot(1, 1, 1)\n",
    "ax.scatter(transformed[:,0], transformed[:,1], transformed[:,2], c=target);\n",
    "ax.set_title('First three PCA Components')"
   ]
  },
  {
   "cell_type": "markdown",
   "id": "convinced-softball",
   "metadata": {},
   "source": [
    "Here, we see standardisating the data helped separating the three classes. "
   ]
  },
  {
   "cell_type": "code",
   "execution_count": 116,
   "id": "accompanied-problem",
   "metadata": {},
   "outputs": [],
   "source": [
    "X_train, X_test, Y_train, Y_test = train_test_split(transformed[:,0:2], target, test_size = 0.3, random_state = 4)"
   ]
  },
  {
   "cell_type": "code",
   "execution_count": 117,
   "id": "third-creation",
   "metadata": {},
   "outputs": [
    {
     "name": "stdout",
     "output_type": "stream",
     "text": [
      "(54, 2) (54,)\n",
      "(124, 2) (124,)\n"
     ]
    }
   ],
   "source": [
    "print( X_test.shape, Y_test.shape)\n",
    "print(X_train.shape, Y_train.shape)"
   ]
  },
  {
   "cell_type": "code",
   "execution_count": 43,
   "id": "skilled-latter",
   "metadata": {},
   "outputs": [],
   "source": [
    "from sklearn import linear_model"
   ]
  },
  {
   "cell_type": "code",
   "execution_count": 138,
   "id": "supposed-briefs",
   "metadata": {},
   "outputs": [
    {
     "data": {
      "text/plain": [
       "LogisticRegression()"
      ]
     },
     "execution_count": 138,
     "metadata": {},
     "output_type": "execute_result"
    }
   ],
   "source": [
    "model_log = linear_model.LogisticRegression()\n",
    "model_log.fit(X_train, Y_train)"
   ]
  },
  {
   "cell_type": "code",
   "execution_count": 139,
   "id": "infrared-triangle",
   "metadata": {},
   "outputs": [
    {
     "data": {
      "text/plain": [
       "array([2, 2, 0, 0, 1, 2, 0, 1, 0, 1, 1, 0, 2, 2, 0, 1, 0, 1, 1, 2, 1, 2,\n",
       "       1, 2, 0, 1, 1, 1, 2, 2, 0, 1, 0, 1, 2, 2, 0, 0, 0, 2, 2, 0, 0, 1,\n",
       "       1, 0, 1, 2, 0, 2, 1, 1, 1, 0])"
      ]
     },
     "execution_count": 139,
     "metadata": {},
     "output_type": "execute_result"
    }
   ],
   "source": [
    "model_log.predict(X_test)"
   ]
  },
  {
   "cell_type": "code",
   "execution_count": 140,
   "id": "stainless-institution",
   "metadata": {},
   "outputs": [
    {
     "data": {
      "text/plain": [
       "0.9814814814814815"
      ]
     },
     "execution_count": 140,
     "metadata": {},
     "output_type": "execute_result"
    }
   ],
   "source": [
    "model_log.score(X_test, Y_test)"
   ]
  },
  {
   "cell_type": "code",
   "execution_count": 141,
   "id": "ignored-judgment",
   "metadata": {},
   "outputs": [],
   "source": [
    "predicted_output = model_log.predict(X_test)"
   ]
  },
  {
   "cell_type": "code",
   "execution_count": 142,
   "id": "fifty-guatemala",
   "metadata": {},
   "outputs": [
    {
     "data": {
      "text/plain": [
       "array([[18,  0,  0],\n",
       "       [ 0, 19,  0],\n",
       "       [ 0,  1, 16]])"
      ]
     },
     "execution_count": 142,
     "metadata": {},
     "output_type": "execute_result"
    }
   ],
   "source": [
    "from sklearn.metrics import confusion_matrix\n",
    "cm = confusion_matrix(Y_test, predicted_output)\n",
    "cm"
   ]
  },
  {
   "cell_type": "code",
   "execution_count": 143,
   "id": "drawn-kennedy",
   "metadata": {},
   "outputs": [
    {
     "data": {
      "text/plain": [
       "Text(24.0, 0.5, 'Actual value')"
      ]
     },
     "execution_count": 143,
     "metadata": {},
     "output_type": "execute_result"
    },
    {
     "data": {
      "image/png": "[encoded data removed]",
      "text/plain": [
       "<Figure size 360x288 with 2 Axes>"
      ]
     },
     "metadata": {
      "needs_background": "light"
     },
     "output_type": "display_data"
    }
   ],
   "source": [
    "import seaborn as sns \n",
    "from matplotlib import pyplot as plt\n",
    "plt.figure(figsize = (5,4))\n",
    "sns.heatmap(cm, annot = True)\n",
    "plt.xlabel('Predicted Value')\n",
    "plt.ylabel('Actual value')"
   ]
  },
  {
   "cell_type": "code",
   "execution_count": 144,
   "id": "civilian-alias",
   "metadata": {},
   "outputs": [
    {
     "name": "stdout",
     "output_type": "stream",
     "text": [
      "              precision    recall  f1-score   support\n",
      "\n",
      "           0       1.00      1.00      1.00        18\n",
      "           1       0.95      1.00      0.97        19\n",
      "           2       1.00      0.94      0.97        17\n",
      "\n",
      "    accuracy                           0.98        54\n",
      "   macro avg       0.98      0.98      0.98        54\n",
      "weighted avg       0.98      0.98      0.98        54\n",
      "\n"
     ]
    }
   ],
   "source": [
    "print(classification_report(Y_test, predicted_output))"
   ]
  },
  {
   "cell_type": "code",
   "execution_count": 55,
   "id": "average-tomorrow",
   "metadata": {},
   "outputs": [
    {
     "name": "stdout",
     "output_type": "stream",
     "text": [
      "              precision    recall  f1-score   support\n",
      "\n",
      "           0       1.00      1.00      1.00        18\n",
      "           1       0.90      1.00      0.95        19\n",
      "           2       1.00      0.88      0.94        17\n",
      "\n",
      "    accuracy                           0.96        54\n",
      "   macro avg       0.97      0.96      0.96        54\n",
      "weighted avg       0.97      0.96      0.96        54\n",
      "\n"
     ]
    }
   ],
   "source": [
    "print(classification_report(Y_test, predicted_output_dt))\n",
    "\n",
    "From the above output, for class 0, 18 times the model predicted correct actual value. For class 1, the model 19 times the correct actual value, but there was 1 time the model predicted the value of a chemical constituent as class 2, however, it was class 1. For class 2, the model predicted the correct actual value 16 times. "
   ]
  },
  {
   "cell_type": "markdown",
   "id": "familiar-biology",
   "metadata": {},
   "source": [
    "Random Forest classifier"
   ]
  },
  {
   "cell_type": "code",
   "execution_count": 56,
   "id": "analyzed-barbados",
   "metadata": {},
   "outputs": [
    {
     "data": {
      "text/plain": [
       "0.9629629629629629"
      ]
     },
     "execution_count": 56,
     "metadata": {},
     "output_type": "execute_result"
    }
   ],
   "source": [
    "from sklearn.ensemble import RandomForestClassifier\n",
    "rf_wine = RandomForestClassifier(n_estimators=100, max_depth=15, random_state=0)\n",
    "rf_wine.fit(X_train, Y_train)  #training the model\n",
    "rf_wine.score(X_test, Y_test)  #making predcition "
   ]
  },
  {
   "cell_type": "code",
   "execution_count": 57,
   "id": "armed-milton",
   "metadata": {},
   "outputs": [],
   "source": [
    "predicted_output_rf = rf_wine.predict(X_test)"
   ]
  },
  {
   "cell_type": "code",
   "execution_count": 58,
   "id": "thick-carrier",
   "metadata": {},
   "outputs": [
    {
     "data": {
      "text/plain": [
       "array([[18,  0,  0],\n",
       "       [ 0, 19,  0],\n",
       "       [ 0,  1, 16]])"
      ]
     },
     "execution_count": 58,
     "metadata": {},
     "output_type": "execute_result"
    }
   ],
   "source": [
    "from sklearn.metrics import confusion_matrix\n",
    "cm_rf = confusion_matrix(Y_test, predicted_output)\n",
    "cm_rf"
   ]
  },
  {
   "cell_type": "code",
   "execution_count": 59,
   "id": "senior-grenada",
   "metadata": {},
   "outputs": [
    {
     "data": {
      "text/plain": [
       "Text(24.0, 0.5, 'Actual value')"
      ]
     },
     "execution_count": 59,
     "metadata": {},
     "output_type": "execute_result"
    },
    {
     "data": {
      "image/png": "[encoded data removed]",
      "text/plain": [
       "<Figure size 360x288 with 2 Axes>"
      ]
     },
     "metadata": {
      "needs_background": "light"
     },
     "output_type": "display_data"
    }
   ],
   "source": [
    "import seaborn as sns \n",
    "from matplotlib import pyplot as plt\n",
    "plt.figure(figsize = (5,4))\n",
    "sns.heatmap(cm_rf, annot = True)\n",
    "plt.xlabel('Predicted Value')\n",
    "plt.ylabel('Actual value')"
   ]
  },
  {
   "cell_type": "code",
   "execution_count": 60,
   "id": "imported-belgium",
   "metadata": {},
   "outputs": [
    {
     "name": "stdout",
     "output_type": "stream",
     "text": [
      "              precision    recall  f1-score   support\n",
      "\n",
      "           0       1.00      1.00      1.00        18\n",
      "           1       0.90      1.00      0.95        19\n",
      "           2       1.00      0.88      0.94        17\n",
      "\n",
      "    accuracy                           0.96        54\n",
      "   macro avg       0.97      0.96      0.96        54\n",
      "weighted avg       0.97      0.96      0.96        54\n",
      "\n"
     ]
    }
   ],
   "source": [
    "print(classification_report(Y_test, predicted_output_rf))"
   ]
  },
  {
   "cell_type": "markdown",
   "id": "adverse-pantyhose",
   "metadata": {},
   "source": [
    "Gradient Boosting Classifier"
   ]
  },
  {
   "cell_type": "code",
   "execution_count": 61,
   "id": "local-vector",
   "metadata": {},
   "outputs": [
    {
     "data": {
      "text/plain": [
       "0.9629629629629629"
      ]
     },
     "execution_count": 61,
     "metadata": {},
     "output_type": "execute_result"
    }
   ],
   "source": [
    "from sklearn.ensemble import GradientBoostingClassifier\n",
    "GBC_wine = GradientBoostingClassifier()\n",
    "GBC_wine.fit(X_train, Y_train)  #training the model\n",
    "GBC_wine.score(X_test, Y_test)  #making prediction"
   ]
  },
  {
   "cell_type": "markdown",
   "id": "christian-parade",
   "metadata": {},
   "source": [
    "Tune the GBC classifers to improve the accuracy of the classifier "
   ]
  },
  {
   "cell_type": "code",
   "execution_count": 146,
   "id": "laden-glossary",
   "metadata": {},
   "outputs": [
    {
     "data": {
      "text/plain": [
       "0.9629629629629629"
      ]
     },
     "execution_count": 146,
     "metadata": {},
     "output_type": "execute_result"
    }
   ],
   "source": [
    "from sklearn.ensemble import GradientBoostingClassifier\n",
    "GBC_wine = GradientBoostingClassifier(n_estimators = 50)\n",
    "GBC_wine.fit(X_train, Y_train)  #training the model\n",
    "GBC_wine.score(X_test, Y_test)   #making prediction"
   ]
  },
  {
   "cell_type": "code",
   "execution_count": 147,
   "id": "swiss-repository",
   "metadata": {},
   "outputs": [],
   "source": [
    "predicted_output_GBC = GBC_wine.predict(X_test)"
   ]
  },
  {
   "cell_type": "code",
   "execution_count": 148,
   "id": "minor-facility",
   "metadata": {},
   "outputs": [
    {
     "data": {
      "text/plain": [
       "array([[18,  0,  0],\n",
       "       [ 0, 19,  0],\n",
       "       [ 0,  2, 15]])"
      ]
     },
     "execution_count": 148,
     "metadata": {},
     "output_type": "execute_result"
    }
   ],
   "source": [
    "from sklearn.metrics import confusion_matrix\n",
    "cm_GBC = confusion_matrix(Y_test, predicted_output_GBC)\n",
    "cm_GBC"
   ]
  },
  {
   "cell_type": "code",
   "execution_count": 149,
   "id": "embedded-aviation",
   "metadata": {},
   "outputs": [
    {
     "data": {
      "text/plain": [
       "Text(24.0, 0.5, 'Actual value')"
      ]
     },
     "execution_count": 149,
     "metadata": {},
     "output_type": "execute_result"
    },
    {
     "data": {
      "image/png": "[encoded data removed]",
      "text/plain": [
       "<Figure size 360x288 with 2 Axes>"
      ]
     },
     "metadata": {
      "needs_background": "light"
     },
     "output_type": "display_data"
    }
   ],
   "source": [
    "import seaborn as sns \n",
    "from matplotlib import pyplot as plt\n",
    "plt.figure(figsize = (5,4))\n",
    "sns.heatmap(cm_GBC, annot = True)\n",
    "plt.xlabel('Predicted Value')\n",
    "plt.ylabel('Actual value')"
   ]
  },
  {
   "cell_type": "code",
   "execution_count": 151,
   "id": "animated-courtesy",
   "metadata": {},
   "outputs": [
    {
     "name": "stdout",
     "output_type": "stream",
     "text": [
      "              precision    recall  f1-score   support\n",
      "\n",
      "           0       1.00      1.00      1.00        18\n",
      "           1       0.90      1.00      0.95        19\n",
      "           2       1.00      0.88      0.94        17\n",
      "\n",
      "    accuracy                           0.96        54\n",
      "   macro avg       0.97      0.96      0.96        54\n",
      "weighted avg       0.97      0.96      0.96        54\n",
      "\n"
     ]
    }
   ],
   "source": [
    "print(classification_report(Y_test, predicted_output_GBC))"
   ]
  },
  {
   "cell_type": "markdown",
   "id": "grave-developer",
   "metadata": {},
   "source": [
    "Naive Bayes classifier"
   ]
  },
  {
   "cell_type": "code",
   "execution_count": 92,
   "id": "integrated-federation",
   "metadata": {},
   "outputs": [
    {
     "data": {
      "text/plain": [
       "1.0"
      ]
     },
     "execution_count": 92,
     "metadata": {},
     "output_type": "execute_result"
    }
   ],
   "source": [
    "from sklearn.naive_bayes import GaussianNB\n",
    "nb_wine = GaussianNB()\n",
    "nb_wine.fit(X_train, Y_train)  #training the model\n",
    "nb_wine.score(X_test, Y_test)  #making prediction"
   ]
  },
  {
   "cell_type": "code",
   "execution_count": 93,
   "id": "patent-alfred",
   "metadata": {},
   "outputs": [],
   "source": [
    "predicted_output_nb = nb_wine.predict(X_test)"
   ]
  },
  {
   "cell_type": "code",
   "execution_count": 94,
   "id": "fresh-ready",
   "metadata": {},
   "outputs": [
    {
     "data": {
      "text/plain": [
       "array([[18,  0,  0],\n",
       "       [ 0, 19,  0],\n",
       "       [ 0,  0, 17]])"
      ]
     },
     "execution_count": 94,
     "metadata": {},
     "output_type": "execute_result"
    }
   ],
   "source": [
    "from sklearn.metrics import confusion_matrix\n",
    "cm_nb = confusion_matrix(Y_test, predicted_output_nb)\n",
    "cm_nb"
   ]
  },
  {
   "cell_type": "code",
   "execution_count": 95,
   "id": "powered-stretch",
   "metadata": {},
   "outputs": [
    {
     "data": {
      "text/plain": [
       "Text(24.0, 0.5, 'Actual value')"
      ]
     },
     "execution_count": 95,
     "metadata": {},
     "output_type": "execute_result"
    },
    {
     "data": {
      "image/png": "[encoded data removed]",
      "text/plain": [
       "<Figure size 360x288 with 2 Axes>"
      ]
     },
     "metadata": {
      "needs_background": "light"
     },
     "output_type": "display_data"
    }
   ],
   "source": [
    "import seaborn as sns \n",
    "from matplotlib import pyplot as plt\n",
    "plt.figure(figsize = (5,4))\n",
    "sns.heatmap(cm_nb, annot = True)\n",
    "plt.xlabel('Predicted Value')\n",
    "plt.ylabel('Actual value')"
   ]
  },
  {
   "cell_type": "code",
   "execution_count": 96,
   "id": "reserved-fifteen",
   "metadata": {},
   "outputs": [
    {
     "name": "stdout",
     "output_type": "stream",
     "text": [
      "              precision    recall  f1-score   support\n",
      "\n",
      "           0       1.00      1.00      1.00        18\n",
      "           1       1.00      1.00      1.00        19\n",
      "           2       1.00      1.00      1.00        17\n",
      "\n",
      "    accuracy                           1.00        54\n",
      "   macro avg       1.00      1.00      1.00        54\n",
      "weighted avg       1.00      1.00      1.00        54\n",
      "\n"
     ]
    }
   ],
   "source": [
    "print(classification_report(Y_test, predicted_output_nb))"
   ]
  },
  {
   "cell_type": "markdown",
   "id": "friendly-celtic",
   "metadata": {},
   "source": [
    "KNN classifier"
   ]
  },
  {
   "cell_type": "code",
   "execution_count": 71,
   "id": "opponent-crest",
   "metadata": {},
   "outputs": [
    {
     "data": {
      "text/plain": [
       "0.9814814814814815"
      ]
     },
     "execution_count": 71,
     "metadata": {},
     "output_type": "execute_result"
    }
   ],
   "source": [
    "from sklearn.neighbors import KNeighborsClassifier\n",
    "cknn_wine = KNeighborsClassifier(n_neighbors=2)\n",
    "cknn_wine.fit(X_train, Y_train)  #training the model\n",
    "cknn_wine.score(X_test, Y_test)  #making prediction"
   ]
  },
  {
   "cell_type": "code",
   "execution_count": 72,
   "id": "angry-provincial",
   "metadata": {},
   "outputs": [],
   "source": [
    "predicted_output_cknn = cknn_wine.predict(X_test)"
   ]
  },
  {
   "cell_type": "code",
   "execution_count": 73,
   "id": "animal-collaboration",
   "metadata": {},
   "outputs": [
    {
     "data": {
      "text/plain": [
       "array([[18,  0,  0],\n",
       "       [ 0, 19,  0],\n",
       "       [ 0,  1, 16]])"
      ]
     },
     "execution_count": 73,
     "metadata": {},
     "output_type": "execute_result"
    }
   ],
   "source": [
    "from sklearn.metrics import confusion_matrix\n",
    "cm_cknn = confusion_matrix(Y_test, predicted_output_cknn)\n",
    "cm_cknn"
   ]
  },
  {
   "cell_type": "code",
   "execution_count": 74,
   "id": "attractive-joyce",
   "metadata": {},
   "outputs": [
    {
     "data": {
      "text/plain": [
       "Text(24.0, 0.5, 'Actual value')"
      ]
     },
     "execution_count": 74,
     "metadata": {},
     "output_type": "execute_result"
    },
    {
     "data": {
      "image/png": "[encoded data removed]",
      "text/plain": [
       "<Figure size 360x288 with 2 Axes>"
      ]
     },
     "metadata": {
      "needs_background": "light"
     },
     "output_type": "display_data"
    }
   ],
   "source": [
    "import seaborn as sns \n",
    "from matplotlib import pyplot as plt\n",
    "plt.figure(figsize = (5,4))\n",
    "sns.heatmap(cm_cknn, annot = True)\n",
    "plt.xlabel('Predicted Value')\n",
    "plt.ylabel('Actual value')"
   ]
  },
  {
   "cell_type": "code",
   "execution_count": 75,
   "id": "received-owner",
   "metadata": {},
   "outputs": [
    {
     "name": "stdout",
     "output_type": "stream",
     "text": [
      "              precision    recall  f1-score   support\n",
      "\n",
      "           0       1.00      1.00      1.00        18\n",
      "           1       0.95      1.00      0.97        19\n",
      "           2       1.00      0.94      0.97        17\n",
      "\n",
      "    accuracy                           0.98        54\n",
      "   macro avg       0.98      0.98      0.98        54\n",
      "weighted avg       0.98      0.98      0.98        54\n",
      "\n"
     ]
    }
   ],
   "source": [
    "print(classification_report(Y_test, predicted_output_cknn))"
   ]
  },
  {
   "cell_type": "markdown",
   "id": "changing-elements",
   "metadata": {},
   "source": [
    "SVM (One vs all)"
   ]
  },
  {
   "cell_type": "code",
   "execution_count": 127,
   "id": "adjacent-template",
   "metadata": {},
   "outputs": [
    {
     "data": {
      "text/plain": [
       "0.9814814814814815"
      ]
     },
     "execution_count": 127,
     "metadata": {},
     "output_type": "execute_result"
    }
   ],
   "source": [
    "svm_rbf_wine = SVC(C = 1, kernel = 'rbf', degree = 3, gamma= 'auto', class_weight = 'balanced', probability = True)  \n",
    "svm_rbf_wine.fit(X_train, Y_train)\n",
    "svm_rbf_wine.score(X_test, Y_test)"
   ]
  },
  {
   "cell_type": "code",
   "execution_count": 128,
   "id": "exclusive-meaning",
   "metadata": {},
   "outputs": [],
   "source": [
    "predicted_output_svm = svm_rbf_wine.predict(X_test)"
   ]
  },
  {
   "cell_type": "code",
   "execution_count": 129,
   "id": "roman-software",
   "metadata": {},
   "outputs": [
    {
     "data": {
      "text/plain": [
       "array([[18,  0,  0],\n",
       "       [ 0, 19,  0],\n",
       "       [ 0,  1, 16]])"
      ]
     },
     "execution_count": 129,
     "metadata": {},
     "output_type": "execute_result"
    }
   ],
   "source": [
    "from sklearn.metrics import confusion_matrix\n",
    "cm_svm = confusion_matrix(Y_test, predicted_output_svm)\n",
    "cm_svm"
   ]
  },
  {
   "cell_type": "code",
   "execution_count": 130,
   "id": "specialized-pittsburgh",
   "metadata": {},
   "outputs": [
    {
     "data": {
      "text/plain": [
       "Text(24.0, 0.5, 'Actual value')"
      ]
     },
     "execution_count": 130,
     "metadata": {},
     "output_type": "execute_result"
    },
    {
     "data": {
      "image/png": "[encoded data removed]",
      "text/plain": [
       "<Figure size 360x288 with 2 Axes>"
      ]
     },
     "metadata": {
      "needs_background": "light"
     },
     "output_type": "display_data"
    }
   ],
   "source": [
    "import seaborn as sns \n",
    "from matplotlib import pyplot as plt\n",
    "plt.figure(figsize = (5,4))\n",
    "sns.heatmap(cm_svm, annot = True)\n",
    "plt.xlabel('Predicted Value')\n",
    "plt.ylabel('Actual value')"
   ]
  },
  {
   "cell_type": "code",
   "execution_count": 131,
   "id": "controlling-sauce",
   "metadata": {},
   "outputs": [
    {
     "name": "stdout",
     "output_type": "stream",
     "text": [
      "              precision    recall  f1-score   support\n",
      "\n",
      "           0       1.00      1.00      1.00        18\n",
      "           1       0.95      1.00      0.97        19\n",
      "           2       1.00      0.94      0.97        17\n",
      "\n",
      "    accuracy                           0.98        54\n",
      "   macro avg       0.98      0.98      0.98        54\n",
      "weighted avg       0.98      0.98      0.98        54\n",
      "\n"
     ]
    }
   ],
   "source": [
    "print(classification_report(Y_test, predicted_output_svm))"
   ]
  },
  {
   "cell_type": "code",
   "execution_count": 135,
   "id": "another-animal",
   "metadata": {},
   "outputs": [
    {
     "name": "stdout",
     "output_type": "stream",
     "text": [
      "Logistic regression accuracy: 98.15%\n",
      "Decision Tree accuracy: 96.30%\n",
      "Random Forest accuracy: 96.30%\n",
      "Gradient Boost accuracy: 96.30%\n",
      "Naive Bayes accuracy: 100.00%\n",
      "K NearestN Neighbour accuracy: 98.15%\n",
      "Support Vector Machine accuracy: 98.15%\n"
     ]
    }
   ],
   "source": [
    "print('Logistic regression accuracy: %.2f%%' % (score1*100))\n",
    "print('Decision Tree accuracy: %.2f%%' % (score2*100))\n",
    "print('Random Forest accuracy: %.2f%%' % (score3*100))\n",
    "print('Gradient Boost accuracy: %.2f%%' % (score4*100))\n",
    "print('Naive Bayes accuracy: %.2f%%' % (score5*100))\n",
    "print('K NearestN Neighbour accuracy: %.2f%%' % (score6*100))\n",
    "print('Support Vector Machine accuracy: %.2f%%' % (score7*100))"
   ]
  },
  {
   "cell_type": "code",
   "execution_count": 101,
   "id": "reliable-generic",
   "metadata": {},
   "outputs": [
    {
     "name": "stdout",
     "output_type": "stream",
     "text": [
      "Requirement already satisfied: mlxtend in /Users/saumyakaim/opt/anaconda3/lib/python3.7/site-packages (0.18.0)\n",
      "Requirement already satisfied: matplotlib>=3.0.0 in /Users/saumyakaim/opt/anaconda3/lib/python3.7/site-packages (from mlxtend) (3.3.4)\n",
      "Requirement already satisfied: pandas>=0.24.2 in /Users/saumyakaim/opt/anaconda3/lib/python3.7/site-packages (from mlxtend) (1.2.3)\n",
      "Requirement already satisfied: scipy>=1.2.1 in /Users/saumyakaim/opt/anaconda3/lib/python3.7/site-packages (from mlxtend) (1.6.1)\n",
      "Requirement already satisfied: joblib>=0.13.2 in /Users/saumyakaim/opt/anaconda3/lib/python3.7/site-packages (from mlxtend) (1.0.1)\n",
      "Requirement already satisfied: setuptools in /Users/saumyakaim/opt/anaconda3/lib/python3.7/site-packages (from mlxtend) (52.0.0.post20210125)\n",
      "Requirement already satisfied: numpy>=1.16.2 in /Users/saumyakaim/opt/anaconda3/lib/python3.7/site-packages (from mlxtend) (1.19.2)\n",
      "Requirement already satisfied: scikit-learn>=0.20.3 in /Users/saumyakaim/opt/anaconda3/lib/python3.7/site-packages (from mlxtend) (0.24.2)\n",
      "Requirement already satisfied: pyparsing!=2.0.4,!=2.1.2,!=2.1.6,>=2.0.3 in /Users/saumyakaim/opt/anaconda3/lib/python3.7/site-packages (from matplotlib>=3.0.0->mlxtend) (2.4.7)\n",
      "Requirement already satisfied: kiwisolver>=1.0.1 in /Users/saumyakaim/opt/anaconda3/lib/python3.7/site-packages (from matplotlib>=3.0.0->mlxtend) (1.3.1)\n",
      "Requirement already satisfied: cycler>=0.10 in /Users/saumyakaim/opt/anaconda3/lib/python3.7/site-packages (from matplotlib>=3.0.0->mlxtend) (0.10.0)\n",
      "Requirement already satisfied: python-dateutil>=2.1 in /Users/saumyakaim/opt/anaconda3/lib/python3.7/site-packages (from matplotlib>=3.0.0->mlxtend) (2.8.1)\n",
      "Requirement already satisfied: pillow>=6.2.0 in /Users/saumyakaim/opt/anaconda3/lib/python3.7/site-packages (from matplotlib>=3.0.0->mlxtend) (8.1.2)\n",
      "Requirement already satisfied: six in /Users/saumyakaim/opt/anaconda3/lib/python3.7/site-packages (from cycler>=0.10->matplotlib>=3.0.0->mlxtend) (1.15.0)\n",
      "Requirement already satisfied: pytz>=2017.3 in /Users/saumyakaim/opt/anaconda3/lib/python3.7/site-packages (from pandas>=0.24.2->mlxtend) (2021.1)\n",
      "Requirement already satisfied: threadpoolctl>=2.0.0 in /Users/saumyakaim/opt/anaconda3/lib/python3.7/site-packages (from scikit-learn>=0.20.3->mlxtend) (2.1.0)\n"
     ]
    }
   ],
   "source": [
    "!pip install mlxtend  "
   ]
  },
  {
   "cell_type": "markdown",
   "id": "abroad-newman",
   "metadata": {},
   "source": [
    "Let's assume a significance threshold of alpha = 0.05 for rejecting the null hypothesis that both algorithms perform equally well on the dataset and conduct the 5*2cv t test:"
   ]
  },
  {
   "cell_type": "code",
   "execution_count": 155,
   "id": "greater-advocacy",
   "metadata": {},
   "outputs": [],
   "source": [
    "x = transformed[:, 0:2]"
   ]
  },
  {
   "cell_type": "code",
   "execution_count": 156,
   "id": "built-adobe",
   "metadata": {},
   "outputs": [
    {
     "name": "stdout",
     "output_type": "stream",
     "text": [
      "t statistic: 0.74536\n",
      "p value: 0.48959\n"
     ]
    }
   ],
   "source": [
    "from mlxtend.evaluate import paired_ttest_5x2cv\n",
    "\n",
    "\n",
    "t, p = paired_ttest_5x2cv(estimator1=nb_wine,\n",
    "                          estimator2=svm_rbf_wine,\n",
    "                          X=x, y=target,\n",
    "                          random_seed=1)\n",
    "\n",
    "print('t statistic: %.5f' % t)\n",
    "print('p value: %.5f' % p)"
   ]
  },
  {
   "cell_type": "code",
   "execution_count": 158,
   "id": "occupational-thirty",
   "metadata": {},
   "outputs": [
    {
     "name": "stdout",
     "output_type": "stream",
     "text": [
      "t statistic: -1.29099\n",
      "p value: 0.25317\n"
     ]
    }
   ],
   "source": [
    "from mlxtend.evaluate import paired_ttest_5x2cv\n",
    "\n",
    "\n",
    "t, p = paired_ttest_5x2cv(estimator1=cknn_wine,\n",
    "                          estimator2=nb_wine,\n",
    "                          X=x, y=target,\n",
    "                          random_seed=1)\n",
    "\n",
    "print('t statistic: %.5f' % t)\n",
    "print('p value: %.5f' % p)"
   ]
  },
  {
   "cell_type": "code",
   "execution_count": 159,
   "id": "communist-ebony",
   "metadata": {},
   "outputs": [
    {
     "name": "stdout",
     "output_type": "stream",
     "text": [
      "t statistic: -2.08263\n",
      "p value: 0.09175\n"
     ]
    }
   ],
   "source": [
    "from mlxtend.evaluate import paired_ttest_5x2cv\n",
    "\n",
    "\n",
    "t, p = paired_ttest_5x2cv(estimator1=rf_wine,\n",
    "                          estimator2=nb_wine,\n",
    "                          X=x, y=target,\n",
    "                          random_seed=1)\n",
    "\n",
    "print('t statistic: %.5f' % t)\n",
    "print('p value: %.5f' % p)"
   ]
  },
  {
   "cell_type": "markdown",
   "id": "therapeutic-contest",
   "metadata": {},
   "source": [
    "Since, p is greater than alpha, we cannot reject the null hypothesis and may conclude that the performance of the two algorithms is not significantly different.This leads us to fail to reject the null hypothesis, suggesting that any observed difference between the algorithms is probably not real. Hecne, we could easily choose either support vector machine or K nearest neighbour for our wine dataset, and both clssifiers would perform equally on average. "
   ]
  }
 ],
 "metadata": {
  "kernelspec": {
   "display_name": "Python 3",
   "language": "python",
   "name": "python3"
  },
  "language_info": {
   "codemirror_mode": {
    "name": "ipython",
    "version": 3
   },
   "file_extension": ".py",
   "mimetype": "text/x-python",
   "name": "python",
   "nbconvert_exporter": "python",
   "pygments_lexer": "ipython3",
   "version": "3.7.6"
  }
 },
 "nbformat": 4,
 "nbformat_minor": 5
}
